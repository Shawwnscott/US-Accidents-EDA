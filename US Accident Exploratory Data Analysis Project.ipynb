{
 "cells": [
  {
   "cell_type": "markdown",
   "id": "356e9f57",
   "metadata": {},
   "source": [
    "# Exploratory Data Analyst Project"
   ]
  },
  {
   "cell_type": "markdown",
   "id": "22fa5018",
   "metadata": {},
   "source": [
    "- This EDA project is used to gain practice in analyzing data and tranforming it into something useful. This project will test my understanding of python, NumPY and pandas while increasing my prficiency in it.\n",
    "\n",
    "- This project followed a tutorial on youtube - https://www.youtube.com/watch?v=kLDTbavcmd0\n",
    "\n",
    "- This is a countrywide car accident dataset sourced from KAGGLE, which covers 49 states of the USA. The accident data are collected from February 2016 to Dec 2021, using multiple APIs that provide streaming traffic incident (or event) data. \n",
    "\n",
    "- Dataset - https://www.kaggle.com/sobhanmoosavi/us-accidents\n"
   ]
  },
  {
   "cell_type": "code",
   "execution_count": 1,
   "id": "898de693",
   "metadata": {},
   "outputs": [],
   "source": [
    "import numpy as np\n",
    "import pandas as pd\n",
    "import seaborn as sns\n",
    "sns.set_style(\"darkgrid\")"
   ]
  },
  {
   "cell_type": "markdown",
   "id": "57645924",
   "metadata": {},
   "source": [
    "## Data Preparation and Cleaning\n"
   ]
  },
  {
   "cell_type": "markdown",
   "id": "937bcb30",
   "metadata": {},
   "source": [
    "1. Load the file using Pandas\n"
   ]
  },
  {
   "cell_type": "code",
   "execution_count": 2,
   "id": "3a0b3eb6",
   "metadata": {},
   "outputs": [],
   "source": [
    "df= pd.read_csv('US_Accidents_Dec21_updated.csv')"
   ]
  },
  {
   "cell_type": "code",
   "execution_count": 3,
   "id": "ab2e09fe",
   "metadata": {
    "scrolled": false
   },
   "outputs": [
    {
     "data": {
      "text/html": [
       "<div>\n",
       "<style scoped>\n",
       "    .dataframe tbody tr th:only-of-type {\n",
       "        vertical-align: middle;\n",
       "    }\n",
       "\n",
       "    .dataframe tbody tr th {\n",
       "        vertical-align: top;\n",
       "    }\n",
       "\n",
       "    .dataframe thead th {\n",
       "        text-align: right;\n",
       "    }\n",
       "</style>\n",
       "<table border=\"1\" class=\"dataframe\">\n",
       "  <thead>\n",
       "    <tr style=\"text-align: right;\">\n",
       "      <th></th>\n",
       "      <th>ID</th>\n",
       "      <th>Severity</th>\n",
       "      <th>Start_Time</th>\n",
       "      <th>End_Time</th>\n",
       "      <th>Start_Lat</th>\n",
       "      <th>Start_Lng</th>\n",
       "      <th>End_Lat</th>\n",
       "      <th>End_Lng</th>\n",
       "      <th>Distance(mi)</th>\n",
       "      <th>Description</th>\n",
       "      <th>...</th>\n",
       "      <th>Roundabout</th>\n",
       "      <th>Station</th>\n",
       "      <th>Stop</th>\n",
       "      <th>Traffic_Calming</th>\n",
       "      <th>Traffic_Signal</th>\n",
       "      <th>Turning_Loop</th>\n",
       "      <th>Sunrise_Sunset</th>\n",
       "      <th>Civil_Twilight</th>\n",
       "      <th>Nautical_Twilight</th>\n",
       "      <th>Astronomical_Twilight</th>\n",
       "    </tr>\n",
       "  </thead>\n",
       "  <tbody>\n",
       "    <tr>\n",
       "      <th>0</th>\n",
       "      <td>A-1</td>\n",
       "      <td>3</td>\n",
       "      <td>2016-02-08 00:37:08</td>\n",
       "      <td>2016-02-08 06:37:08</td>\n",
       "      <td>40.108910</td>\n",
       "      <td>-83.092860</td>\n",
       "      <td>40.112060</td>\n",
       "      <td>-83.031870</td>\n",
       "      <td>3.230</td>\n",
       "      <td>Between Sawmill Rd/Exit 20 and OH-315/Olentang...</td>\n",
       "      <td>...</td>\n",
       "      <td>False</td>\n",
       "      <td>False</td>\n",
       "      <td>False</td>\n",
       "      <td>False</td>\n",
       "      <td>False</td>\n",
       "      <td>False</td>\n",
       "      <td>Night</td>\n",
       "      <td>Night</td>\n",
       "      <td>Night</td>\n",
       "      <td>Night</td>\n",
       "    </tr>\n",
       "    <tr>\n",
       "      <th>1</th>\n",
       "      <td>A-2</td>\n",
       "      <td>2</td>\n",
       "      <td>2016-02-08 05:56:20</td>\n",
       "      <td>2016-02-08 11:56:20</td>\n",
       "      <td>39.865420</td>\n",
       "      <td>-84.062800</td>\n",
       "      <td>39.865010</td>\n",
       "      <td>-84.048730</td>\n",
       "      <td>0.747</td>\n",
       "      <td>At OH-4/OH-235/Exit 41 - Accident.</td>\n",
       "      <td>...</td>\n",
       "      <td>False</td>\n",
       "      <td>False</td>\n",
       "      <td>False</td>\n",
       "      <td>False</td>\n",
       "      <td>False</td>\n",
       "      <td>False</td>\n",
       "      <td>Night</td>\n",
       "      <td>Night</td>\n",
       "      <td>Night</td>\n",
       "      <td>Night</td>\n",
       "    </tr>\n",
       "    <tr>\n",
       "      <th>2</th>\n",
       "      <td>A-3</td>\n",
       "      <td>2</td>\n",
       "      <td>2016-02-08 06:15:39</td>\n",
       "      <td>2016-02-08 12:15:39</td>\n",
       "      <td>39.102660</td>\n",
       "      <td>-84.524680</td>\n",
       "      <td>39.102090</td>\n",
       "      <td>-84.523960</td>\n",
       "      <td>0.055</td>\n",
       "      <td>At I-71/US-50/Exit 1 - Accident.</td>\n",
       "      <td>...</td>\n",
       "      <td>False</td>\n",
       "      <td>False</td>\n",
       "      <td>False</td>\n",
       "      <td>False</td>\n",
       "      <td>False</td>\n",
       "      <td>False</td>\n",
       "      <td>Night</td>\n",
       "      <td>Night</td>\n",
       "      <td>Night</td>\n",
       "      <td>Day</td>\n",
       "    </tr>\n",
       "    <tr>\n",
       "      <th>3</th>\n",
       "      <td>A-4</td>\n",
       "      <td>2</td>\n",
       "      <td>2016-02-08 06:51:45</td>\n",
       "      <td>2016-02-08 12:51:45</td>\n",
       "      <td>41.062130</td>\n",
       "      <td>-81.537840</td>\n",
       "      <td>41.062170</td>\n",
       "      <td>-81.535470</td>\n",
       "      <td>0.123</td>\n",
       "      <td>At Dart Ave/Exit 21 - Accident.</td>\n",
       "      <td>...</td>\n",
       "      <td>False</td>\n",
       "      <td>False</td>\n",
       "      <td>False</td>\n",
       "      <td>False</td>\n",
       "      <td>False</td>\n",
       "      <td>False</td>\n",
       "      <td>Night</td>\n",
       "      <td>Night</td>\n",
       "      <td>Day</td>\n",
       "      <td>Day</td>\n",
       "    </tr>\n",
       "    <tr>\n",
       "      <th>4</th>\n",
       "      <td>A-5</td>\n",
       "      <td>3</td>\n",
       "      <td>2016-02-08 07:53:43</td>\n",
       "      <td>2016-02-08 13:53:43</td>\n",
       "      <td>39.172393</td>\n",
       "      <td>-84.492792</td>\n",
       "      <td>39.170476</td>\n",
       "      <td>-84.501798</td>\n",
       "      <td>0.500</td>\n",
       "      <td>At Mitchell Ave/Exit 6 - Accident.</td>\n",
       "      <td>...</td>\n",
       "      <td>False</td>\n",
       "      <td>False</td>\n",
       "      <td>False</td>\n",
       "      <td>False</td>\n",
       "      <td>False</td>\n",
       "      <td>False</td>\n",
       "      <td>Day</td>\n",
       "      <td>Day</td>\n",
       "      <td>Day</td>\n",
       "      <td>Day</td>\n",
       "    </tr>\n",
       "    <tr>\n",
       "      <th>...</th>\n",
       "      <td>...</td>\n",
       "      <td>...</td>\n",
       "      <td>...</td>\n",
       "      <td>...</td>\n",
       "      <td>...</td>\n",
       "      <td>...</td>\n",
       "      <td>...</td>\n",
       "      <td>...</td>\n",
       "      <td>...</td>\n",
       "      <td>...</td>\n",
       "      <td>...</td>\n",
       "      <td>...</td>\n",
       "      <td>...</td>\n",
       "      <td>...</td>\n",
       "      <td>...</td>\n",
       "      <td>...</td>\n",
       "      <td>...</td>\n",
       "      <td>...</td>\n",
       "      <td>...</td>\n",
       "      <td>...</td>\n",
       "      <td>...</td>\n",
       "    </tr>\n",
       "    <tr>\n",
       "      <th>2845337</th>\n",
       "      <td>A-2845338</td>\n",
       "      <td>2</td>\n",
       "      <td>2019-08-23 18:03:25</td>\n",
       "      <td>2019-08-23 18:32:01</td>\n",
       "      <td>34.002480</td>\n",
       "      <td>-117.379360</td>\n",
       "      <td>33.998880</td>\n",
       "      <td>-117.370940</td>\n",
       "      <td>0.543</td>\n",
       "      <td>At Market St - Accident.</td>\n",
       "      <td>...</td>\n",
       "      <td>False</td>\n",
       "      <td>False</td>\n",
       "      <td>False</td>\n",
       "      <td>False</td>\n",
       "      <td>False</td>\n",
       "      <td>False</td>\n",
       "      <td>Day</td>\n",
       "      <td>Day</td>\n",
       "      <td>Day</td>\n",
       "      <td>Day</td>\n",
       "    </tr>\n",
       "    <tr>\n",
       "      <th>2845338</th>\n",
       "      <td>A-2845339</td>\n",
       "      <td>2</td>\n",
       "      <td>2019-08-23 19:11:30</td>\n",
       "      <td>2019-08-23 19:38:23</td>\n",
       "      <td>32.766960</td>\n",
       "      <td>-117.148060</td>\n",
       "      <td>32.765550</td>\n",
       "      <td>-117.153630</td>\n",
       "      <td>0.338</td>\n",
       "      <td>At Camino Del Rio/Mission Center Rd - Accident.</td>\n",
       "      <td>...</td>\n",
       "      <td>False</td>\n",
       "      <td>False</td>\n",
       "      <td>False</td>\n",
       "      <td>False</td>\n",
       "      <td>False</td>\n",
       "      <td>False</td>\n",
       "      <td>Day</td>\n",
       "      <td>Day</td>\n",
       "      <td>Day</td>\n",
       "      <td>Day</td>\n",
       "    </tr>\n",
       "    <tr>\n",
       "      <th>2845339</th>\n",
       "      <td>A-2845340</td>\n",
       "      <td>2</td>\n",
       "      <td>2019-08-23 19:00:21</td>\n",
       "      <td>2019-08-23 19:28:49</td>\n",
       "      <td>33.775450</td>\n",
       "      <td>-117.847790</td>\n",
       "      <td>33.777400</td>\n",
       "      <td>-117.857270</td>\n",
       "      <td>0.561</td>\n",
       "      <td>At Glassell St/Grand Ave - Accident. in the ri...</td>\n",
       "      <td>...</td>\n",
       "      <td>False</td>\n",
       "      <td>False</td>\n",
       "      <td>False</td>\n",
       "      <td>False</td>\n",
       "      <td>False</td>\n",
       "      <td>False</td>\n",
       "      <td>Day</td>\n",
       "      <td>Day</td>\n",
       "      <td>Day</td>\n",
       "      <td>Day</td>\n",
       "    </tr>\n",
       "    <tr>\n",
       "      <th>2845340</th>\n",
       "      <td>A-2845341</td>\n",
       "      <td>2</td>\n",
       "      <td>2019-08-23 19:00:21</td>\n",
       "      <td>2019-08-23 19:29:42</td>\n",
       "      <td>33.992460</td>\n",
       "      <td>-118.403020</td>\n",
       "      <td>33.983110</td>\n",
       "      <td>-118.395650</td>\n",
       "      <td>0.772</td>\n",
       "      <td>At CA-90/Marina Fwy/Jefferson Blvd - Accident.</td>\n",
       "      <td>...</td>\n",
       "      <td>False</td>\n",
       "      <td>False</td>\n",
       "      <td>False</td>\n",
       "      <td>False</td>\n",
       "      <td>False</td>\n",
       "      <td>False</td>\n",
       "      <td>Day</td>\n",
       "      <td>Day</td>\n",
       "      <td>Day</td>\n",
       "      <td>Day</td>\n",
       "    </tr>\n",
       "    <tr>\n",
       "      <th>2845341</th>\n",
       "      <td>A-2845342</td>\n",
       "      <td>2</td>\n",
       "      <td>2019-08-23 18:52:06</td>\n",
       "      <td>2019-08-23 19:21:31</td>\n",
       "      <td>34.133930</td>\n",
       "      <td>-117.230920</td>\n",
       "      <td>34.137360</td>\n",
       "      <td>-117.239340</td>\n",
       "      <td>0.537</td>\n",
       "      <td>At Highland Ave/Arden Ave - Accident.</td>\n",
       "      <td>...</td>\n",
       "      <td>False</td>\n",
       "      <td>False</td>\n",
       "      <td>False</td>\n",
       "      <td>False</td>\n",
       "      <td>False</td>\n",
       "      <td>False</td>\n",
       "      <td>Day</td>\n",
       "      <td>Day</td>\n",
       "      <td>Day</td>\n",
       "      <td>Day</td>\n",
       "    </tr>\n",
       "  </tbody>\n",
       "</table>\n",
       "<p>2845342 rows × 47 columns</p>\n",
       "</div>"
      ],
      "text/plain": [
       "                ID  Severity           Start_Time             End_Time  \\\n",
       "0              A-1         3  2016-02-08 00:37:08  2016-02-08 06:37:08   \n",
       "1              A-2         2  2016-02-08 05:56:20  2016-02-08 11:56:20   \n",
       "2              A-3         2  2016-02-08 06:15:39  2016-02-08 12:15:39   \n",
       "3              A-4         2  2016-02-08 06:51:45  2016-02-08 12:51:45   \n",
       "4              A-5         3  2016-02-08 07:53:43  2016-02-08 13:53:43   \n",
       "...            ...       ...                  ...                  ...   \n",
       "2845337  A-2845338         2  2019-08-23 18:03:25  2019-08-23 18:32:01   \n",
       "2845338  A-2845339         2  2019-08-23 19:11:30  2019-08-23 19:38:23   \n",
       "2845339  A-2845340         2  2019-08-23 19:00:21  2019-08-23 19:28:49   \n",
       "2845340  A-2845341         2  2019-08-23 19:00:21  2019-08-23 19:29:42   \n",
       "2845341  A-2845342         2  2019-08-23 18:52:06  2019-08-23 19:21:31   \n",
       "\n",
       "         Start_Lat   Start_Lng    End_Lat     End_Lng  Distance(mi)  \\\n",
       "0        40.108910  -83.092860  40.112060  -83.031870         3.230   \n",
       "1        39.865420  -84.062800  39.865010  -84.048730         0.747   \n",
       "2        39.102660  -84.524680  39.102090  -84.523960         0.055   \n",
       "3        41.062130  -81.537840  41.062170  -81.535470         0.123   \n",
       "4        39.172393  -84.492792  39.170476  -84.501798         0.500   \n",
       "...            ...         ...        ...         ...           ...   \n",
       "2845337  34.002480 -117.379360  33.998880 -117.370940         0.543   \n",
       "2845338  32.766960 -117.148060  32.765550 -117.153630         0.338   \n",
       "2845339  33.775450 -117.847790  33.777400 -117.857270         0.561   \n",
       "2845340  33.992460 -118.403020  33.983110 -118.395650         0.772   \n",
       "2845341  34.133930 -117.230920  34.137360 -117.239340         0.537   \n",
       "\n",
       "                                               Description  ...  Roundabout  \\\n",
       "0        Between Sawmill Rd/Exit 20 and OH-315/Olentang...  ...       False   \n",
       "1                       At OH-4/OH-235/Exit 41 - Accident.  ...       False   \n",
       "2                         At I-71/US-50/Exit 1 - Accident.  ...       False   \n",
       "3                          At Dart Ave/Exit 21 - Accident.  ...       False   \n",
       "4                       At Mitchell Ave/Exit 6 - Accident.  ...       False   \n",
       "...                                                    ...  ...         ...   \n",
       "2845337                           At Market St - Accident.  ...       False   \n",
       "2845338    At Camino Del Rio/Mission Center Rd - Accident.  ...       False   \n",
       "2845339  At Glassell St/Grand Ave - Accident. in the ri...  ...       False   \n",
       "2845340     At CA-90/Marina Fwy/Jefferson Blvd - Accident.  ...       False   \n",
       "2845341              At Highland Ave/Arden Ave - Accident.  ...       False   \n",
       "\n",
       "        Station   Stop Traffic_Calming Traffic_Signal Turning_Loop  \\\n",
       "0         False  False           False          False        False   \n",
       "1         False  False           False          False        False   \n",
       "2         False  False           False          False        False   \n",
       "3         False  False           False          False        False   \n",
       "4         False  False           False          False        False   \n",
       "...         ...    ...             ...            ...          ...   \n",
       "2845337   False  False           False          False        False   \n",
       "2845338   False  False           False          False        False   \n",
       "2845339   False  False           False          False        False   \n",
       "2845340   False  False           False          False        False   \n",
       "2845341   False  False           False          False        False   \n",
       "\n",
       "        Sunrise_Sunset Civil_Twilight Nautical_Twilight Astronomical_Twilight  \n",
       "0                Night          Night             Night                 Night  \n",
       "1                Night          Night             Night                 Night  \n",
       "2                Night          Night             Night                   Day  \n",
       "3                Night          Night               Day                   Day  \n",
       "4                  Day            Day               Day                   Day  \n",
       "...                ...            ...               ...                   ...  \n",
       "2845337            Day            Day               Day                   Day  \n",
       "2845338            Day            Day               Day                   Day  \n",
       "2845339            Day            Day               Day                   Day  \n",
       "2845340            Day            Day               Day                   Day  \n",
       "2845341            Day            Day               Day                   Day  \n",
       "\n",
       "[2845342 rows x 47 columns]"
      ]
     },
     "execution_count": 3,
     "metadata": {},
     "output_type": "execute_result"
    }
   ],
   "source": [
    "df"
   ]
  },
  {
   "cell_type": "markdown",
   "id": "43cc45e1",
   "metadata": {},
   "source": [
    "2. Look at some information about the data & the columns\n"
   ]
  },
  {
   "cell_type": "code",
   "execution_count": 4,
   "id": "0d163390",
   "metadata": {},
   "outputs": [
    {
     "data": {
      "text/plain": [
       "Index(['ID', 'Severity', 'Start_Time', 'End_Time', 'Start_Lat', 'Start_Lng',\n",
       "       'End_Lat', 'End_Lng', 'Distance(mi)', 'Description', 'Number', 'Street',\n",
       "       'Side', 'City', 'County', 'State', 'Zipcode', 'Country', 'Timezone',\n",
       "       'Airport_Code', 'Weather_Timestamp', 'Temperature(F)', 'Wind_Chill(F)',\n",
       "       'Humidity(%)', 'Pressure(in)', 'Visibility(mi)', 'Wind_Direction',\n",
       "       'Wind_Speed(mph)', 'Precipitation(in)', 'Weather_Condition', 'Amenity',\n",
       "       'Bump', 'Crossing', 'Give_Way', 'Junction', 'No_Exit', 'Railway',\n",
       "       'Roundabout', 'Station', 'Stop', 'Traffic_Calming', 'Traffic_Signal',\n",
       "       'Turning_Loop', 'Sunrise_Sunset', 'Civil_Twilight', 'Nautical_Twilight',\n",
       "       'Astronomical_Twilight'],\n",
       "      dtype='object')"
      ]
     },
     "execution_count": 4,
     "metadata": {},
     "output_type": "execute_result"
    }
   ],
   "source": [
    "df.columns"
   ]
  },
  {
   "cell_type": "code",
   "execution_count": 5,
   "id": "ec4efbe0",
   "metadata": {},
   "outputs": [
    {
     "name": "stdout",
     "output_type": "stream",
     "text": [
      "<class 'pandas.core.frame.DataFrame'>\n",
      "RangeIndex: 2845342 entries, 0 to 2845341\n",
      "Data columns (total 47 columns):\n",
      " #   Column                 Dtype  \n",
      "---  ------                 -----  \n",
      " 0   ID                     object \n",
      " 1   Severity               int64  \n",
      " 2   Start_Time             object \n",
      " 3   End_Time               object \n",
      " 4   Start_Lat              float64\n",
      " 5   Start_Lng              float64\n",
      " 6   End_Lat                float64\n",
      " 7   End_Lng                float64\n",
      " 8   Distance(mi)           float64\n",
      " 9   Description            object \n",
      " 10  Number                 float64\n",
      " 11  Street                 object \n",
      " 12  Side                   object \n",
      " 13  City                   object \n",
      " 14  County                 object \n",
      " 15  State                  object \n",
      " 16  Zipcode                object \n",
      " 17  Country                object \n",
      " 18  Timezone               object \n",
      " 19  Airport_Code           object \n",
      " 20  Weather_Timestamp      object \n",
      " 21  Temperature(F)         float64\n",
      " 22  Wind_Chill(F)          float64\n",
      " 23  Humidity(%)            float64\n",
      " 24  Pressure(in)           float64\n",
      " 25  Visibility(mi)         float64\n",
      " 26  Wind_Direction         object \n",
      " 27  Wind_Speed(mph)        float64\n",
      " 28  Precipitation(in)      float64\n",
      " 29  Weather_Condition      object \n",
      " 30  Amenity                bool   \n",
      " 31  Bump                   bool   \n",
      " 32  Crossing               bool   \n",
      " 33  Give_Way               bool   \n",
      " 34  Junction               bool   \n",
      " 35  No_Exit                bool   \n",
      " 36  Railway                bool   \n",
      " 37  Roundabout             bool   \n",
      " 38  Station                bool   \n",
      " 39  Stop                   bool   \n",
      " 40  Traffic_Calming        bool   \n",
      " 41  Traffic_Signal         bool   \n",
      " 42  Turning_Loop           bool   \n",
      " 43  Sunrise_Sunset         object \n",
      " 44  Civil_Twilight         object \n",
      " 45  Nautical_Twilight      object \n",
      " 46  Astronomical_Twilight  object \n",
      "dtypes: bool(13), float64(13), int64(1), object(20)\n",
      "memory usage: 773.4+ MB\n"
     ]
    }
   ],
   "source": [
    "df.info()"
   ]
  },
  {
   "cell_type": "code",
   "execution_count": 6,
   "id": "29a513a3",
   "metadata": {},
   "outputs": [
    {
     "data": {
      "text/html": [
       "<div>\n",
       "<style scoped>\n",
       "    .dataframe tbody tr th:only-of-type {\n",
       "        vertical-align: middle;\n",
       "    }\n",
       "\n",
       "    .dataframe tbody tr th {\n",
       "        vertical-align: top;\n",
       "    }\n",
       "\n",
       "    .dataframe thead th {\n",
       "        text-align: right;\n",
       "    }\n",
       "</style>\n",
       "<table border=\"1\" class=\"dataframe\">\n",
       "  <thead>\n",
       "    <tr style=\"text-align: right;\">\n",
       "      <th></th>\n",
       "      <th>Severity</th>\n",
       "      <th>Start_Lat</th>\n",
       "      <th>Start_Lng</th>\n",
       "      <th>End_Lat</th>\n",
       "      <th>End_Lng</th>\n",
       "      <th>Distance(mi)</th>\n",
       "      <th>Number</th>\n",
       "      <th>Temperature(F)</th>\n",
       "      <th>Wind_Chill(F)</th>\n",
       "      <th>Humidity(%)</th>\n",
       "      <th>Pressure(in)</th>\n",
       "      <th>Visibility(mi)</th>\n",
       "      <th>Wind_Speed(mph)</th>\n",
       "      <th>Precipitation(in)</th>\n",
       "    </tr>\n",
       "  </thead>\n",
       "  <tbody>\n",
       "    <tr>\n",
       "      <th>count</th>\n",
       "      <td>2.845342e+06</td>\n",
       "      <td>2.845342e+06</td>\n",
       "      <td>2.845342e+06</td>\n",
       "      <td>2.845342e+06</td>\n",
       "      <td>2.845342e+06</td>\n",
       "      <td>2.845342e+06</td>\n",
       "      <td>1.101431e+06</td>\n",
       "      <td>2.776068e+06</td>\n",
       "      <td>2.375699e+06</td>\n",
       "      <td>2.772250e+06</td>\n",
       "      <td>2.786142e+06</td>\n",
       "      <td>2.774796e+06</td>\n",
       "      <td>2.687398e+06</td>\n",
       "      <td>2.295884e+06</td>\n",
       "    </tr>\n",
       "    <tr>\n",
       "      <th>mean</th>\n",
       "      <td>2.137572e+00</td>\n",
       "      <td>3.624520e+01</td>\n",
       "      <td>-9.711463e+01</td>\n",
       "      <td>3.624532e+01</td>\n",
       "      <td>-9.711439e+01</td>\n",
       "      <td>7.026779e-01</td>\n",
       "      <td>8.089408e+03</td>\n",
       "      <td>6.179356e+01</td>\n",
       "      <td>5.965823e+01</td>\n",
       "      <td>6.436545e+01</td>\n",
       "      <td>2.947234e+01</td>\n",
       "      <td>9.099391e+00</td>\n",
       "      <td>7.395044e+00</td>\n",
       "      <td>7.016940e-03</td>\n",
       "    </tr>\n",
       "    <tr>\n",
       "      <th>std</th>\n",
       "      <td>4.787216e-01</td>\n",
       "      <td>5.363797e+00</td>\n",
       "      <td>1.831782e+01</td>\n",
       "      <td>5.363873e+00</td>\n",
       "      <td>1.831763e+01</td>\n",
       "      <td>1.560361e+00</td>\n",
       "      <td>1.836009e+04</td>\n",
       "      <td>1.862263e+01</td>\n",
       "      <td>2.116097e+01</td>\n",
       "      <td>2.287457e+01</td>\n",
       "      <td>1.045286e+00</td>\n",
       "      <td>2.717546e+00</td>\n",
       "      <td>5.527454e+00</td>\n",
       "      <td>9.348831e-02</td>\n",
       "    </tr>\n",
       "    <tr>\n",
       "      <th>min</th>\n",
       "      <td>1.000000e+00</td>\n",
       "      <td>2.456603e+01</td>\n",
       "      <td>-1.245481e+02</td>\n",
       "      <td>2.456601e+01</td>\n",
       "      <td>-1.245457e+02</td>\n",
       "      <td>0.000000e+00</td>\n",
       "      <td>0.000000e+00</td>\n",
       "      <td>-8.900000e+01</td>\n",
       "      <td>-8.900000e+01</td>\n",
       "      <td>1.000000e+00</td>\n",
       "      <td>0.000000e+00</td>\n",
       "      <td>0.000000e+00</td>\n",
       "      <td>0.000000e+00</td>\n",
       "      <td>0.000000e+00</td>\n",
       "    </tr>\n",
       "    <tr>\n",
       "      <th>25%</th>\n",
       "      <td>2.000000e+00</td>\n",
       "      <td>3.344517e+01</td>\n",
       "      <td>-1.180331e+02</td>\n",
       "      <td>3.344628e+01</td>\n",
       "      <td>-1.180333e+02</td>\n",
       "      <td>5.200000e-02</td>\n",
       "      <td>1.270000e+03</td>\n",
       "      <td>5.000000e+01</td>\n",
       "      <td>4.600000e+01</td>\n",
       "      <td>4.800000e+01</td>\n",
       "      <td>2.931000e+01</td>\n",
       "      <td>1.000000e+01</td>\n",
       "      <td>3.500000e+00</td>\n",
       "      <td>0.000000e+00</td>\n",
       "    </tr>\n",
       "    <tr>\n",
       "      <th>50%</th>\n",
       "      <td>2.000000e+00</td>\n",
       "      <td>3.609861e+01</td>\n",
       "      <td>-9.241808e+01</td>\n",
       "      <td>3.609799e+01</td>\n",
       "      <td>-9.241772e+01</td>\n",
       "      <td>2.440000e-01</td>\n",
       "      <td>4.007000e+03</td>\n",
       "      <td>6.400000e+01</td>\n",
       "      <td>6.300000e+01</td>\n",
       "      <td>6.700000e+01</td>\n",
       "      <td>2.982000e+01</td>\n",
       "      <td>1.000000e+01</td>\n",
       "      <td>7.000000e+00</td>\n",
       "      <td>0.000000e+00</td>\n",
       "    </tr>\n",
       "    <tr>\n",
       "      <th>75%</th>\n",
       "      <td>2.000000e+00</td>\n",
       "      <td>4.016024e+01</td>\n",
       "      <td>-8.037243e+01</td>\n",
       "      <td>4.016105e+01</td>\n",
       "      <td>-8.037338e+01</td>\n",
       "      <td>7.640000e-01</td>\n",
       "      <td>9.567000e+03</td>\n",
       "      <td>7.600000e+01</td>\n",
       "      <td>7.600000e+01</td>\n",
       "      <td>8.300000e+01</td>\n",
       "      <td>3.001000e+01</td>\n",
       "      <td>1.000000e+01</td>\n",
       "      <td>1.000000e+01</td>\n",
       "      <td>0.000000e+00</td>\n",
       "    </tr>\n",
       "    <tr>\n",
       "      <th>max</th>\n",
       "      <td>4.000000e+00</td>\n",
       "      <td>4.900058e+01</td>\n",
       "      <td>-6.711317e+01</td>\n",
       "      <td>4.907500e+01</td>\n",
       "      <td>-6.710924e+01</td>\n",
       "      <td>1.551860e+02</td>\n",
       "      <td>9.999997e+06</td>\n",
       "      <td>1.960000e+02</td>\n",
       "      <td>1.960000e+02</td>\n",
       "      <td>1.000000e+02</td>\n",
       "      <td>5.890000e+01</td>\n",
       "      <td>1.400000e+02</td>\n",
       "      <td>1.087000e+03</td>\n",
       "      <td>2.400000e+01</td>\n",
       "    </tr>\n",
       "  </tbody>\n",
       "</table>\n",
       "</div>"
      ],
      "text/plain": [
       "           Severity     Start_Lat     Start_Lng       End_Lat       End_Lng  \\\n",
       "count  2.845342e+06  2.845342e+06  2.845342e+06  2.845342e+06  2.845342e+06   \n",
       "mean   2.137572e+00  3.624520e+01 -9.711463e+01  3.624532e+01 -9.711439e+01   \n",
       "std    4.787216e-01  5.363797e+00  1.831782e+01  5.363873e+00  1.831763e+01   \n",
       "min    1.000000e+00  2.456603e+01 -1.245481e+02  2.456601e+01 -1.245457e+02   \n",
       "25%    2.000000e+00  3.344517e+01 -1.180331e+02  3.344628e+01 -1.180333e+02   \n",
       "50%    2.000000e+00  3.609861e+01 -9.241808e+01  3.609799e+01 -9.241772e+01   \n",
       "75%    2.000000e+00  4.016024e+01 -8.037243e+01  4.016105e+01 -8.037338e+01   \n",
       "max    4.000000e+00  4.900058e+01 -6.711317e+01  4.907500e+01 -6.710924e+01   \n",
       "\n",
       "       Distance(mi)        Number  Temperature(F)  Wind_Chill(F)  \\\n",
       "count  2.845342e+06  1.101431e+06    2.776068e+06   2.375699e+06   \n",
       "mean   7.026779e-01  8.089408e+03    6.179356e+01   5.965823e+01   \n",
       "std    1.560361e+00  1.836009e+04    1.862263e+01   2.116097e+01   \n",
       "min    0.000000e+00  0.000000e+00   -8.900000e+01  -8.900000e+01   \n",
       "25%    5.200000e-02  1.270000e+03    5.000000e+01   4.600000e+01   \n",
       "50%    2.440000e-01  4.007000e+03    6.400000e+01   6.300000e+01   \n",
       "75%    7.640000e-01  9.567000e+03    7.600000e+01   7.600000e+01   \n",
       "max    1.551860e+02  9.999997e+06    1.960000e+02   1.960000e+02   \n",
       "\n",
       "        Humidity(%)  Pressure(in)  Visibility(mi)  Wind_Speed(mph)  \\\n",
       "count  2.772250e+06  2.786142e+06    2.774796e+06     2.687398e+06   \n",
       "mean   6.436545e+01  2.947234e+01    9.099391e+00     7.395044e+00   \n",
       "std    2.287457e+01  1.045286e+00    2.717546e+00     5.527454e+00   \n",
       "min    1.000000e+00  0.000000e+00    0.000000e+00     0.000000e+00   \n",
       "25%    4.800000e+01  2.931000e+01    1.000000e+01     3.500000e+00   \n",
       "50%    6.700000e+01  2.982000e+01    1.000000e+01     7.000000e+00   \n",
       "75%    8.300000e+01  3.001000e+01    1.000000e+01     1.000000e+01   \n",
       "max    1.000000e+02  5.890000e+01    1.400000e+02     1.087000e+03   \n",
       "\n",
       "       Precipitation(in)  \n",
       "count       2.295884e+06  \n",
       "mean        7.016940e-03  \n",
       "std         9.348831e-02  \n",
       "min         0.000000e+00  \n",
       "25%         0.000000e+00  \n",
       "50%         0.000000e+00  \n",
       "75%         0.000000e+00  \n",
       "max         2.400000e+01  "
      ]
     },
     "execution_count": 6,
     "metadata": {},
     "output_type": "execute_result"
    }
   ],
   "source": [
    "df.describe()"
   ]
  },
  {
   "cell_type": "code",
   "execution_count": 7,
   "id": "63ac860d",
   "metadata": {},
   "outputs": [
    {
     "data": {
      "text/plain": [
       "14"
      ]
     },
     "execution_count": 7,
     "metadata": {},
     "output_type": "execute_result"
    }
   ],
   "source": [
    "numerics = ['int16', 'int32', 'int64', 'float16', 'float32', 'float64']\n",
    "\n",
    "numeric_df = df.select_dtypes(include=numerics)\n",
    "len(numeric_df.columns)"
   ]
  },
  {
   "cell_type": "markdown",
   "id": "fc5f4704",
   "metadata": {},
   "source": [
    "3. Fix any missing or incorrect values"
   ]
  },
  {
   "cell_type": "code",
   "execution_count": 8,
   "id": "a5d78c5a",
   "metadata": {},
   "outputs": [
    {
     "data": {
      "text/plain": [
       "ID                             0\n",
       "Severity                       0\n",
       "Start_Time                     0\n",
       "End_Time                       0\n",
       "Start_Lat                      0\n",
       "Start_Lng                      0\n",
       "End_Lat                        0\n",
       "End_Lng                        0\n",
       "Distance(mi)                   0\n",
       "Description                    0\n",
       "Number                   1743911\n",
       "Street                         2\n",
       "Side                           0\n",
       "City                         137\n",
       "County                         0\n",
       "State                          0\n",
       "Zipcode                     1319\n",
       "Country                        0\n",
       "Timezone                    3659\n",
       "Airport_Code                9549\n",
       "Weather_Timestamp          50736\n",
       "Temperature(F)             69274\n",
       "Wind_Chill(F)             469643\n",
       "Humidity(%)                73092\n",
       "Pressure(in)               59200\n",
       "Visibility(mi)             70546\n",
       "Wind_Direction             73775\n",
       "Wind_Speed(mph)           157944\n",
       "Precipitation(in)         549458\n",
       "Weather_Condition          70636\n",
       "Amenity                        0\n",
       "Bump                           0\n",
       "Crossing                       0\n",
       "Give_Way                       0\n",
       "Junction                       0\n",
       "No_Exit                        0\n",
       "Railway                        0\n",
       "Roundabout                     0\n",
       "Station                        0\n",
       "Stop                           0\n",
       "Traffic_Calming                0\n",
       "Traffic_Signal                 0\n",
       "Turning_Loop                   0\n",
       "Sunrise_Sunset              2867\n",
       "Civil_Twilight              2867\n",
       "Nautical_Twilight           2867\n",
       "Astronomical_Twilight       2867\n",
       "dtype: int64"
      ]
     },
     "execution_count": 8,
     "metadata": {},
     "output_type": "execute_result"
    }
   ],
   "source": [
    "df.isna().sum()"
   ]
  },
  {
   "cell_type": "markdown",
   "id": "5b726b5f",
   "metadata": {},
   "source": [
    "Percentage of Missing values per column"
   ]
  },
  {
   "cell_type": "code",
   "execution_count": 9,
   "id": "41063460",
   "metadata": {
    "scrolled": true
   },
   "outputs": [
    {
     "data": {
      "text/plain": [
       "Number                   6.129003e-01\n",
       "Precipitation(in)        1.931079e-01\n",
       "Wind_Chill(F)            1.650568e-01\n",
       "Wind_Speed(mph)          5.550967e-02\n",
       "Wind_Direction           2.592834e-02\n",
       "Humidity(%)              2.568830e-02\n",
       "Weather_Condition        2.482514e-02\n",
       "Visibility(mi)           2.479350e-02\n",
       "Temperature(F)           2.434646e-02\n",
       "Pressure(in)             2.080593e-02\n",
       "Weather_Timestamp        1.783125e-02\n",
       "Airport_Code             3.356011e-03\n",
       "Timezone                 1.285961e-03\n",
       "Nautical_Twilight        1.007612e-03\n",
       "Civil_Twilight           1.007612e-03\n",
       "Sunrise_Sunset           1.007612e-03\n",
       "Astronomical_Twilight    1.007612e-03\n",
       "Zipcode                  4.635647e-04\n",
       "City                     4.814887e-05\n",
       "Street                   7.029032e-07\n",
       "Country                  0.000000e+00\n",
       "Junction                 0.000000e+00\n",
       "Start_Time               0.000000e+00\n",
       "End_Time                 0.000000e+00\n",
       "Start_Lat                0.000000e+00\n",
       "Turning_Loop             0.000000e+00\n",
       "Traffic_Signal           0.000000e+00\n",
       "Traffic_Calming          0.000000e+00\n",
       "Stop                     0.000000e+00\n",
       "Station                  0.000000e+00\n",
       "Roundabout               0.000000e+00\n",
       "Railway                  0.000000e+00\n",
       "No_Exit                  0.000000e+00\n",
       "Crossing                 0.000000e+00\n",
       "Give_Way                 0.000000e+00\n",
       "Bump                     0.000000e+00\n",
       "Amenity                  0.000000e+00\n",
       "Start_Lng                0.000000e+00\n",
       "End_Lat                  0.000000e+00\n",
       "End_Lng                  0.000000e+00\n",
       "Distance(mi)             0.000000e+00\n",
       "Description              0.000000e+00\n",
       "Severity                 0.000000e+00\n",
       "Side                     0.000000e+00\n",
       "County                   0.000000e+00\n",
       "State                    0.000000e+00\n",
       "ID                       0.000000e+00\n",
       "dtype: float64"
      ]
     },
     "execution_count": 9,
     "metadata": {},
     "output_type": "execute_result"
    }
   ],
   "source": [
    "missing_percentages = df.isna().sum().sort_values(ascending = False) / len(df)\n",
    "missing_percentages"
   ]
  },
  {
   "cell_type": "code",
   "execution_count": 10,
   "id": "a8d8676c",
   "metadata": {},
   "outputs": [
    {
     "data": {
      "text/plain": [
       "Number                   6.129003e-01\n",
       "Precipitation(in)        1.931079e-01\n",
       "Wind_Chill(F)            1.650568e-01\n",
       "Wind_Speed(mph)          5.550967e-02\n",
       "Wind_Direction           2.592834e-02\n",
       "Humidity(%)              2.568830e-02\n",
       "Weather_Condition        2.482514e-02\n",
       "Visibility(mi)           2.479350e-02\n",
       "Temperature(F)           2.434646e-02\n",
       "Pressure(in)             2.080593e-02\n",
       "Weather_Timestamp        1.783125e-02\n",
       "Airport_Code             3.356011e-03\n",
       "Timezone                 1.285961e-03\n",
       "Nautical_Twilight        1.007612e-03\n",
       "Civil_Twilight           1.007612e-03\n",
       "Sunrise_Sunset           1.007612e-03\n",
       "Astronomical_Twilight    1.007612e-03\n",
       "Zipcode                  4.635647e-04\n",
       "City                     4.814887e-05\n",
       "Street                   7.029032e-07\n",
       "dtype: float64"
      ]
     },
     "execution_count": 10,
     "metadata": {},
     "output_type": "execute_result"
    }
   ],
   "source": [
    "missing_percentages[missing_percentages != 0]"
   ]
  },
  {
   "cell_type": "code",
   "execution_count": 11,
   "id": "758e7ab3",
   "metadata": {},
   "outputs": [
    {
     "data": {
      "text/plain": [
       "<AxesSubplot:>"
      ]
     },
     "execution_count": 11,
     "metadata": {},
     "output_type": "execute_result"
    },
    {
     "data": {
      "image/png": "[encoded data removed]",
      "text/plain": [
       "<Figure size 432x288 with 1 Axes>"
      ]
     },
     "metadata": {},
     "output_type": "display_data"
    }
   ],
   "source": [
    "missing_percentages[missing_percentages != 0].plot(kind = 'barh')"
   ]
  },
  {
   "cell_type": "markdown",
   "id": "64c10d10",
   "metadata": {},
   "source": [
    "## Exploratory Analysis and Visualization"
   ]
  },
  {
   "cell_type": "markdown",
   "id": "6a4792e5",
   "metadata": {},
   "source": [
    "Columns we'll analyze:\n",
    "\n",
    "1. City\n",
    "2. Start Time\n",
    "3. Start Lat, Start Lng\n",
    "4. Temperature\n",
    "5. Weather Condition"
   ]
  },
  {
   "cell_type": "markdown",
   "id": "165ebe1b",
   "metadata": {},
   "source": [
    "###  City"
   ]
  },
  {
   "cell_type": "code",
   "execution_count": 12,
   "id": "d80a8f07",
   "metadata": {},
   "outputs": [
    {
     "data": {
      "text/plain": [
       "Index(['ID', 'Severity', 'Start_Time', 'End_Time', 'Start_Lat', 'Start_Lng',\n",
       "       'End_Lat', 'End_Lng', 'Distance(mi)', 'Description', 'Number', 'Street',\n",
       "       'Side', 'City', 'County', 'State', 'Zipcode', 'Country', 'Timezone',\n",
       "       'Airport_Code', 'Weather_Timestamp', 'Temperature(F)', 'Wind_Chill(F)',\n",
       "       'Humidity(%)', 'Pressure(in)', 'Visibility(mi)', 'Wind_Direction',\n",
       "       'Wind_Speed(mph)', 'Precipitation(in)', 'Weather_Condition', 'Amenity',\n",
       "       'Bump', 'Crossing', 'Give_Way', 'Junction', 'No_Exit', 'Railway',\n",
       "       'Roundabout', 'Station', 'Stop', 'Traffic_Calming', 'Traffic_Signal',\n",
       "       'Turning_Loop', 'Sunrise_Sunset', 'Civil_Twilight', 'Nautical_Twilight',\n",
       "       'Astronomical_Twilight'],\n",
       "      dtype='object')"
      ]
     },
     "execution_count": 12,
     "metadata": {},
     "output_type": "execute_result"
    }
   ],
   "source": [
    "df.columns"
   ]
  },
  {
   "cell_type": "code",
   "execution_count": 13,
   "id": "c5011c09",
   "metadata": {},
   "outputs": [
    {
     "data": {
      "text/plain": [
       "11682"
      ]
     },
     "execution_count": 13,
     "metadata": {},
     "output_type": "execute_result"
    }
   ],
   "source": [
    "cities = df.City.unique()\n",
    "len(cities)"
   ]
  },
  {
   "cell_type": "code",
   "execution_count": 14,
   "id": "59cb21b6",
   "metadata": {
    "scrolled": true
   },
   "outputs": [
    {
     "data": {
      "text/plain": [
       "Miami           106966\n",
       "Los Angeles      68956\n",
       "Orlando          54691\n",
       "Dallas           41979\n",
       "Houston          39448\n",
       "Charlotte        33152\n",
       "Sacramento       32559\n",
       "San Diego        26627\n",
       "Raleigh          22840\n",
       "Minneapolis      22768\n",
       "Portland         20944\n",
       "Nashville        20267\n",
       "Austin           18301\n",
       "Baton Rouge      18182\n",
       "Phoenix          17143\n",
       "Saint Paul       16869\n",
       "New Orleans      16251\n",
       "Atlanta          15622\n",
       "Jacksonville     14967\n",
       "Richmond         14349\n",
       "Name: City, dtype: int64"
      ]
     },
     "execution_count": 14,
     "metadata": {},
     "output_type": "execute_result"
    }
   ],
   "source": [
    "cities_by_accident = df.City.value_counts()\n",
    "cities_by_accident[:20] "
   ]
  },
  {
   "cell_type": "code",
   "execution_count": 15,
   "id": "1d4e94c8",
   "metadata": {},
   "outputs": [
    {
     "data": {
      "text/plain": [
       "False"
      ]
     },
     "execution_count": 15,
     "metadata": {},
     "output_type": "execute_result"
    }
   ],
   "source": [
    "'New York' in df.City"
   ]
  },
  {
   "cell_type": "code",
   "execution_count": 16,
   "id": "362711aa",
   "metadata": {},
   "outputs": [
    {
     "data": {
      "text/plain": [
       "False"
      ]
     },
     "execution_count": 16,
     "metadata": {},
     "output_type": "execute_result"
    }
   ],
   "source": [
    "'NewYork' in df.City"
   ]
  },
  {
   "cell_type": "code",
   "execution_count": 17,
   "id": "57507fdc",
   "metadata": {},
   "outputs": [
    {
     "data": {
      "text/plain": [
       "False"
      ]
     },
     "execution_count": 17,
     "metadata": {},
     "output_type": "execute_result"
    }
   ],
   "source": [
    "'NY' in df.State"
   ]
  },
  {
   "cell_type": "code",
   "execution_count": 18,
   "id": "662a21c5",
   "metadata": {
    "scrolled": true
   },
   "outputs": [
    {
     "data": {
      "text/plain": [
       "<AxesSubplot:>"
      ]
     },
     "execution_count": 18,
     "metadata": {},
     "output_type": "execute_result"
    },
    {
     "data": {
      "image/png": "[encoded data removed]",
      "text/plain": [
       "<Figure size 432x288 with 1 Axes>"
      ]
     },
     "metadata": {},
     "output_type": "display_data"
    }
   ],
   "source": [
    "cities_by_accident[:20].plot(kind = 'barh')"
   ]
  },
  {
   "cell_type": "markdown",
   "id": "6e93a7b4",
   "metadata": {},
   "source": [
    "- Miami appears more frequently in terms of recorded accidents"
   ]
  },
  {
   "cell_type": "code",
   "execution_count": 19,
   "id": "cb6929e5",
   "metadata": {
    "scrolled": true
   },
   "outputs": [
    {
     "data": {
      "text/plain": [
       "<AxesSubplot:xlabel='City', ylabel='Count'>"
      ]
     },
     "execution_count": 19,
     "metadata": {},
     "output_type": "execute_result"
    },
    {
     "data": {
      "image/png": "[encoded data removed]",
      "text/plain": [
       "<Figure size 432x288 with 1 Axes>"
      ]
     },
     "metadata": {},
     "output_type": "display_data"
    }
   ],
   "source": [
    "sns.histplot(cities_by_accident, log_scale = True)"
   ]
  },
  {
   "cell_type": "code",
   "execution_count": 20,
   "id": "72b42773",
   "metadata": {},
   "outputs": [
    {
     "data": {
      "text/plain": [
       "Carney                          1\n",
       "Waverly Hall                    1\n",
       "Center Sandwich                 1\n",
       "Glen Flora                      1\n",
       "Sulphur Springs                 1\n",
       "                               ..\n",
       "Ridgedale                       1\n",
       "Sekiu                           1\n",
       "Wooldridge                      1\n",
       "Bullock                         1\n",
       "American Fork-Pleasant Grove    1\n",
       "Name: City, Length: 1110, dtype: int64"
      ]
     },
     "execution_count": 20,
     "metadata": {},
     "output_type": "execute_result"
    }
   ],
   "source": [
    "cities_by_accident[cities_by_accident ==1]"
   ]
  },
  {
   "cell_type": "markdown",
   "id": "91fefe8e",
   "metadata": {},
   "source": [
    "### Start Time"
   ]
  },
  {
   "cell_type": "markdown",
   "id": "32d32563",
   "metadata": {},
   "source": [
    "#####   What time of the day are accidents more frequent?"
   ]
  },
  {
   "cell_type": "code",
   "execution_count": 21,
   "id": "c56d4b5a",
   "metadata": {
    "scrolled": true
   },
   "outputs": [
    {
     "data": {
      "text/plain": [
       "0          2016-02-08 00:37:08\n",
       "1          2016-02-08 05:56:20\n",
       "2          2016-02-08 06:15:39\n",
       "3          2016-02-08 06:51:45\n",
       "4          2016-02-08 07:53:43\n",
       "                  ...         \n",
       "2845337    2019-08-23 18:03:25\n",
       "2845338    2019-08-23 19:11:30\n",
       "2845339    2019-08-23 19:00:21\n",
       "2845340    2019-08-23 19:00:21\n",
       "2845341    2019-08-23 18:52:06\n",
       "Name: Start_Time, Length: 2845342, dtype: object"
      ]
     },
     "execution_count": 21,
     "metadata": {},
     "output_type": "execute_result"
    }
   ],
   "source": [
    "df.Start_Time"
   ]
  },
  {
   "cell_type": "code",
   "execution_count": 22,
   "id": "a66ef2a9",
   "metadata": {},
   "outputs": [],
   "source": [
    "df.Start_Time = pd.to_datetime(df.Start_Time)"
   ]
  },
  {
   "cell_type": "code",
   "execution_count": 23,
   "id": "b1850c00",
   "metadata": {
    "scrolled": true
   },
   "outputs": [
    {
     "data": {
      "text/plain": [
       "<AxesSubplot:xlabel='Start_Time', ylabel='Probability'>"
      ]
     },
     "execution_count": 23,
     "metadata": {},
     "output_type": "execute_result"
    },
    {
     "data": {
      "image/png": "[encoded data removed]",
      "text/plain": [
       "<Figure size 432x288 with 1 Axes>"
      ]
     },
     "metadata": {},
     "output_type": "display_data"
    }
   ],
   "source": [
    "sns.histplot(df.Start_Time.dt.hour, bins = 24, stat='probability')"
   ]
  },
  {
   "cell_type": "markdown",
   "id": "a96a6f80",
   "metadata": {},
   "source": [
    "- A high percentage of accidents occur between 2PM - 5PM \n"
   ]
  },
  {
   "cell_type": "markdown",
   "id": "b1046b05",
   "metadata": {},
   "source": [
    "##### Which Day of the weeks have the most accidents?"
   ]
  },
  {
   "cell_type": "code",
   "execution_count": 24,
   "id": "26007b40",
   "metadata": {
    "scrolled": true
   },
   "outputs": [
    {
     "data": {
      "text/plain": [
       "<AxesSubplot:xlabel='Start_Time', ylabel='Probability'>"
      ]
     },
     "execution_count": 24,
     "metadata": {},
     "output_type": "execute_result"
    },
    {
     "data": {
      "image/png": "[encoded data removed]",
      "text/plain": [
       "<Figure size 432x288 with 1 Axes>"
      ]
     },
     "metadata": {},
     "output_type": "display_data"
    }
   ],
   "source": [
    "sns.histplot(df.Start_Time.dt.dayofweek, bins = 7, stat='probability')"
   ]
  },
  {
   "cell_type": "markdown",
   "id": "e0d12a1c",
   "metadata": {},
   "source": [
    "- Accidents tend to be higher during the weekdays based on data with accidents peaking on fridays"
   ]
  },
  {
   "cell_type": "markdown",
   "id": "7da881e8",
   "metadata": {},
   "source": [
    "##### Is the distribution of accidents by hour the same on weekends as on weekdays?"
   ]
  },
  {
   "cell_type": "code",
   "execution_count": 25,
   "id": "3f880c2c",
   "metadata": {
    "scrolled": true
   },
   "outputs": [
    {
     "data": {
      "text/plain": [
       "<AxesSubplot:xlabel='Start_Time', ylabel='Probability'>"
      ]
     },
     "execution_count": 25,
     "metadata": {},
     "output_type": "execute_result"
    },
    {
     "data": {
      "image/png": "[encoded data removed]",
      "text/plain": [
       "<Figure size 432x288 with 1 Axes>"
      ]
     },
     "metadata": {},
     "output_type": "display_data"
    }
   ],
   "source": [
    "sundays_Start_Time = df.Start_Time[df.Start_Time.dt.dayofweek == 6 ]\n",
    "sns.histplot(sundays_Start_Time.dt.hour, bins = 24, stat='probability')"
   ]
  },
  {
   "cell_type": "code",
   "execution_count": 26,
   "id": "33174748",
   "metadata": {
    "scrolled": true
   },
   "outputs": [
    {
     "data": {
      "text/plain": [
       "<AxesSubplot:xlabel='Start_Time', ylabel='Probability'>"
      ]
     },
     "execution_count": 26,
     "metadata": {},
     "output_type": "execute_result"
    },
    {
     "data": {
      "image/png": "[encoded data removed]",
      "text/plain": [
       "<Figure size 432x288 with 1 Axes>"
      ]
     },
     "metadata": {},
     "output_type": "display_data"
    }
   ],
   "source": [
    "saturday_start_time = df.Start_Time[df.Start_Time.dt.dayofweek == 5 ]\n",
    "sns.histplot(saturday_start_time.dt.hour, bins = 24, stat='probability')"
   ]
  },
  {
   "cell_type": "markdown",
   "id": "812c5dd8",
   "metadata": {},
   "source": [
    "- On sundays the the most accidents tend to happen around 11 AM to 7PM but they happen less frequently in comparision to weekdays"
   ]
  },
  {
   "cell_type": "code",
   "execution_count": 27,
   "id": "e2d75b1a",
   "metadata": {},
   "outputs": [
    {
     "data": {
      "text/plain": [
       "<AxesSubplot:xlabel='Start_Time', ylabel='Probability'>"
      ]
     },
     "execution_count": 27,
     "metadata": {},
     "output_type": "execute_result"
    },
    {
     "data": {
      "image/png": "[encoded data removed]",
      "text/plain": [
       "<Figure size 432x288 with 1 Axes>"
      ]
     },
     "metadata": {},
     "output_type": "display_data"
    }
   ],
   "source": [
    "mondays_start_time = df.Start_Time[df.Start_Time.dt.dayofweek == 0 ]\n",
    "sns.histplot(mondays_start_time.dt.hour, bins = 24, stat='probability')"
   ]
  },
  {
   "cell_type": "code",
   "execution_count": 28,
   "id": "6d09eb85",
   "metadata": {
    "scrolled": true
   },
   "outputs": [
    {
     "data": {
      "text/plain": [
       "<AxesSubplot:xlabel='Start_Time', ylabel='Probability'>"
      ]
     },
     "execution_count": 28,
     "metadata": {},
     "output_type": "execute_result"
    },
    {
     "data": {
      "image/png": "[encoded data removed]",
      "text/plain": [
       "<Figure size 432x288 with 1 Axes>"
      ]
     },
     "metadata": {},
     "output_type": "display_data"
    }
   ],
   "source": [
    "sns.histplot(df.Start_Time.dt.month, bins = 12, stat='probability')"
   ]
  },
  {
   "cell_type": "code",
   "execution_count": 29,
   "id": "08a9e90c",
   "metadata": {
    "scrolled": true
   },
   "outputs": [
    {
     "data": {
      "text/plain": [
       "<AxesSubplot:xlabel='Start_Time', ylabel='Probability'>"
      ]
     },
     "execution_count": 29,
     "metadata": {},
     "output_type": "execute_result"
    },
    {
     "data": {
      "image/png": "[encoded data removed]",
      "text/plain": [
       "<Figure size 432x288 with 1 Axes>"
      ]
     },
     "metadata": {},
     "output_type": "display_data"
    }
   ],
   "source": [
    "df_year_2016 = df[df.Start_Time.dt.year == 2016]\n",
    "sns.histplot(df_year_2016.Start_Time.dt.month, bins = 12, stat='probability')"
   ]
  },
  {
   "cell_type": "code",
   "execution_count": 30,
   "id": "e300ae4d",
   "metadata": {},
   "outputs": [
    {
     "data": {
      "text/plain": [
       "<AxesSubplot:xlabel='Start_Time', ylabel='Probability'>"
      ]
     },
     "execution_count": 30,
     "metadata": {},
     "output_type": "execute_result"
    },
    {
     "data": {
      "image/png": "[encoded data removed]",
      "text/plain": [
       "<Figure size 432x288 with 1 Axes>"
      ]
     },
     "metadata": {},
     "output_type": "display_data"
    }
   ],
   "source": [
    "df_year_2020 = df[df.Start_Time.dt.year == 2020]\n",
    "sns.histplot(df_year_2020.Start_Time.dt.month, bins = 12, stat='probability')"
   ]
  },
  {
   "cell_type": "markdown",
   "id": "f05a10d2",
   "metadata": {},
   "source": [
    "- Missing data for 2016 and 2020"
   ]
  },
  {
   "cell_type": "markdown",
   "id": "09649a4d",
   "metadata": {},
   "source": [
    "### Start Latitude & Longitude"
   ]
  },
  {
   "cell_type": "code",
   "execution_count": 31,
   "id": "0db5342d",
   "metadata": {},
   "outputs": [
    {
     "data": {
      "text/plain": [
       "0          40.108910\n",
       "1          39.865420\n",
       "2          39.102660\n",
       "3          41.062130\n",
       "4          39.172393\n",
       "             ...    \n",
       "2845337    34.002480\n",
       "2845338    32.766960\n",
       "2845339    33.775450\n",
       "2845340    33.992460\n",
       "2845341    34.133930\n",
       "Name: Start_Lat, Length: 2845342, dtype: float64"
      ]
     },
     "execution_count": 31,
     "metadata": {},
     "output_type": "execute_result"
    }
   ],
   "source": [
    "df.Start_Lat"
   ]
  },
  {
   "cell_type": "code",
   "execution_count": 32,
   "id": "794d54a0",
   "metadata": {},
   "outputs": [
    {
     "data": {
      "text/plain": [
       "0          -83.092860\n",
       "1          -84.062800\n",
       "2          -84.524680\n",
       "3          -81.537840\n",
       "4          -84.492792\n",
       "              ...    \n",
       "2845337   -117.379360\n",
       "2845338   -117.148060\n",
       "2845339   -117.847790\n",
       "2845340   -118.403020\n",
       "2845341   -117.230920\n",
       "Name: Start_Lng, Length: 2845342, dtype: float64"
      ]
     },
     "execution_count": 32,
     "metadata": {},
     "output_type": "execute_result"
    }
   ],
   "source": [
    "df.Start_Lng"
   ]
  },
  {
   "cell_type": "code",
   "execution_count": 33,
   "id": "834a4627",
   "metadata": {},
   "outputs": [],
   "source": [
    "sample_df = df.sample(int(0.1 * len(df)))"
   ]
  },
  {
   "cell_type": "code",
   "execution_count": 34,
   "id": "d2d17c1b",
   "metadata": {},
   "outputs": [
    {
     "data": {
      "text/plain": [
       "<AxesSubplot:xlabel='Start_Lng', ylabel='Start_Lat'>"
      ]
     },
     "execution_count": 34,
     "metadata": {},
     "output_type": "execute_result"
    },
    {
     "data": {
      "image/png": "[encoded data removed]",
      "text/plain": [
       "<Figure size 432x288 with 1 Axes>"
      ]
     },
     "metadata": {},
     "output_type": "display_data"
    }
   ],
   "source": [
    "sns.scatterplot(x=sample_df.Start_Lng, y=sample_df.Start_Lat, size=0.001)"
   ]
  },
  {
   "cell_type": "code",
   "execution_count": 35,
   "id": "f8bd3390",
   "metadata": {},
   "outputs": [],
   "source": [
    "import folium"
   ]
  },
  {
   "cell_type": "code",
   "execution_count": 36,
   "id": "7bd30aae",
   "metadata": {},
   "outputs": [
    {
     "data": {
      "text/plain": [
       "(40.10891, -83.09286)"
      ]
     },
     "execution_count": 36,
     "metadata": {},
     "output_type": "execute_result"
    }
   ],
   "source": [
    "lat, lon = df.Start_Lat[0], df.Start_Lng[0]\n",
    "lat, lon"
   ]
  },
  {
   "cell_type": "code",
   "execution_count": 37,
   "id": "3bee0f1f",
   "metadata": {
    "scrolled": true
   },
   "outputs": [
    {
     "name": "stdout",
     "output_type": "stream",
     "text": [
      "702121     37.151455\n",
      "1943874    40.786525\n",
      "2547040    42.769688\n",
      "1745457    43.093196\n",
      "966798     28.449924\n",
      "             ...    \n",
      "2489482    36.959812\n",
      "2372835    33.998260\n",
      "425591     39.419170\n",
      "574926     45.069481\n",
      "2762546    40.866600\n",
      "Name: Start_Lat, Length: 100, dtype: float64\n",
      "702121    -121.651269\n",
      "1943874    -74.148482\n",
      "2547040    -78.444263\n",
      "1745457    -75.793443\n",
      "966798     -81.479136\n",
      "              ...    \n",
      "2489482   -120.063191\n",
      "2372835   -117.369414\n",
      "425591     -74.564734\n",
      "574926     -93.293681\n",
      "2762546    -73.975480\n",
      "Name: Start_Lng, Length: 100, dtype: float64\n"
     ]
    }
   ],
   "source": [
    "for x in df[['Start_Lat', 'Start_Lng']].sample(100).iteritems():\n",
    "    print(x[1])"
   ]
  },
  {
   "cell_type": "code",
   "execution_count": 38,
   "id": "bf1a0bff",
   "metadata": {},
   "outputs": [
    {
     "data": {
      "text/plain": [
       "<zip at 0x2a9eda0b880>"
      ]
     },
     "execution_count": 38,
     "metadata": {},
     "output_type": "execute_result"
    }
   ],
   "source": [
    "zip(list(df.Start_Lat), list(df.Start_Lng))"
   ]
  },
  {
   "cell_type": "code",
   "execution_count": 39,
   "id": "41d10ecb",
   "metadata": {},
   "outputs": [],
   "source": [
    "from folium.plugins import HeatMap"
   ]
  },
  {
   "cell_type": "code",
   "execution_count": 40,
   "id": "16bdc8fb",
   "metadata": {},
   "outputs": [],
   "source": [
    "sample_df = df.sample(int(0.001 * len(df)))\n",
    "lat_lon_pairs = list(zip(list(sample_df.Start_Lat), list(sample_df.Start_Lng)))"
   ]
  },
  {
   "cell_type": "code",
   "execution_count": 41,
   "id": "bf344256",
   "metadata": {
    "scrolled": true
   },
   "outputs": [
    {
     "data": {
      "text/html": [
       "<div style=\"width:100%;\"><div style=\"position:relative;width:100%;height:0;padding-bottom:60%;\"><span style=\"color:#565656\">Make this Notebook Trusted to load map: File -> Trust Notebook</span><iframe srcdoc=\"&lt;!DOCTYPE html&gt;\n",
       "&lt;head&gt;    \n",
       "    &lt;meta http-equiv=&quot;content-type&quot; content=&quot;text/html; charset=UTF-8&quot; /&gt;\n",
       "    \n",
       "        &lt;script&gt;\n",
       "            L_NO_TOUCH = false;\n",
       "            L_DISABLE_3D = false;\n",
       "        &lt;/script&gt;\n",
       "    \n",
       "    &lt;style&gt;html, body {width: 100%;height: 100%;margin: 0;padding: 0;}&lt;/style&gt;\n",
       "    &lt;style&gt;#map {position:absolute;top:0;bottom:0;right:0;left:0;}&lt;/style&gt;\n",
       "    &lt;script src=&quot;https://cdn.jsdelivr.net/npm/leaflet@1.6.0/dist/leaflet.js&quot;&gt;&lt;/script&gt;\n",
       "    &lt;script src=&quot;https://code.jquery.com/jquery-1.12.4.min.js&quot;&gt;&lt;/script&gt;\n",
       "    &lt;script src=&quot;https://maxcdn.bootstrapcdn.com/bootstrap/3.2.0/js/bootstrap.min.js&quot;&gt;&lt;/script&gt;\n",
       "    &lt;script src=&quot;https://cdnjs.cloudflare.com/ajax/libs/Leaflet.awesome-markers/2.0.2/leaflet.awesome-markers.js&quot;&gt;&lt;/script&gt;\n",
       "    &lt;link rel=&quot;stylesheet&quot; href=&quot;https://cdn.jsdelivr.net/npm/leaflet@1.6.0/dist/leaflet.css&quot;/&gt;\n",
       "    &lt;link rel=&quot;stylesheet&quot; href=&quot;https://maxcdn.bootstrapcdn.com/bootstrap/3.2.0/css/bootstrap.min.css&quot;/&gt;\n",
       "    &lt;link rel=&quot;stylesheet&quot; href=&quot;https://maxcdn.bootstrapcdn.com/bootstrap/3.2.0/css/bootstrap-theme.min.css&quot;/&gt;\n",
       "    &lt;link rel=&quot;stylesheet&quot; href=&quot;https://maxcdn.bootstrapcdn.com/font-awesome/4.6.3/css/font-awesome.min.css&quot;/&gt;\n",
       "    &lt;link rel=&quot;stylesheet&quot; href=&quot;https://cdnjs.cloudflare.com/ajax/libs/Leaflet.awesome-markers/2.0.2/leaflet.awesome-markers.css&quot;/&gt;\n",
       "    &lt;link rel=&quot;stylesheet&quot; href=&quot;https://cdn.jsdelivr.net/gh/python-visualization/folium/folium/templates/leaflet.awesome.rotate.min.css&quot;/&gt;\n",
       "    \n",
       "            &lt;meta name=&quot;viewport&quot; content=&quot;width=device-width,\n",
       "                initial-scale=1.0, maximum-scale=1.0, user-scalable=no&quot; /&gt;\n",
       "            &lt;style&gt;\n",
       "                #map_54f66d596be078278448b5ecf4651821 {\n",
       "                    position: relative;\n",
       "                    width: 100.0%;\n",
       "                    height: 100.0%;\n",
       "                    left: 0.0%;\n",
       "                    top: 0.0%;\n",
       "                }\n",
       "            &lt;/style&gt;\n",
       "        \n",
       "    &lt;script src=&quot;https://cdn.jsdelivr.net/gh/python-visualization/folium@master/folium/templates/leaflet_heat.min.js&quot;&gt;&lt;/script&gt;\n",
       "&lt;/head&gt;\n",
       "&lt;body&gt;    \n",
       "    \n",
       "            &lt;div class=&quot;folium-map&quot; id=&quot;map_54f66d596be078278448b5ecf4651821&quot; &gt;&lt;/div&gt;\n",
       "        \n",
       "&lt;/body&gt;\n",
       "&lt;script&gt;    \n",
       "    \n",
       "            var map_54f66d596be078278448b5ecf4651821 = L.map(\n",
       "                &quot;map_54f66d596be078278448b5ecf4651821&quot;,\n",
       "                {\n",
       "                    center: [0, 0],\n",
       "                    crs: L.CRS.EPSG3857,\n",
       "                    zoom: 1,\n",
       "                    zoomControl: true,\n",
       "                    preferCanvas: false,\n",
       "                }\n",
       "            );\n",
       "\n",
       "            \n",
       "\n",
       "        \n",
       "    \n",
       "            var tile_layer_ed7556d5e17b44883b206682377db47b = L.tileLayer(\n",
       "                &quot;https://{s}.tile.openstreetmap.org/{z}/{x}/{y}.png&quot;,\n",
       "                {&quot;attribution&quot;: &quot;Data by \\u0026copy; \\u003ca href=\\&quot;http://openstreetmap.org\\&quot;\\u003eOpenStreetMap\\u003c/a\\u003e, under \\u003ca href=\\&quot;http://www.openstreetmap.org/copyright\\&quot;\\u003eODbL\\u003c/a\\u003e.&quot;, &quot;detectRetina&quot;: false, &quot;maxNativeZoom&quot;: 18, &quot;maxZoom&quot;: 18, &quot;minZoom&quot;: 0, &quot;noWrap&quot;: false, &quot;opacity&quot;: 1, &quot;subdomains&quot;: &quot;abc&quot;, &quot;tms&quot;: false}\n",
       "            ).addTo(map_54f66d596be078278448b5ecf4651821);\n",
       "        \n",
       "    \n",
       "            var heat_map_5b31c5bb4d8ad7199c915e2c10502da6 = L.heatLayer(\n",
       "                [[30.730067, -88.06876199999998], [30.273846, -81.768633], [40.594491, -77.42869], [46.989918, -108.7847], [29.674502, -95.58721], [43.2375, -70.80499300000002], [35.46002, -97.59422], [32.858175, -83.641906], [33.986345, -117.346376], [38.39748400000001, -82.462559], [37.722205, -122.135532], [41.374372, -71.951318], [35.889919, -78.36760699999998], [38.58148, -121.30324], [38.94691, -76.84131], [30.457395, -91.166149], [34.505342, -120.226446], [29.775896000000003, -95.335757], [28.357378000000004, -81.494599], [42.205551, -121.789359], [42.15635, -123.53242], [37.603873, -121.871706], [27.69622, -80.89494], [40.129, -79.29094], [33.8069, -117.83175], [37.77823400000001, -121.975642], [30.41645, -91.143258], [40.629116, -121.992551], [38.95829000000001, -76.939929], [36.946517, -81.050122], [32.81026, -97.314426], [28.468802, -81.417358], [44.97391, -93.24967], [40.149745, -76.196943], [38.639029, -121.339025], [34.134823, -117.347877], [44.977123, -93.202769], [35.595155, -84.519914], [33.997761, -118.17653], [37.742864, -122.198224], [39.78887, -86.08336], [34.449048, -118.613344], [35.44426, -80.61591], [27.15545, -80.30051], [43.6521, -94.44745], [25.632157, -80.41478199999997], [33.99746, -117.83922], [33.998748, -118.147584], [36.229101, -86.83461700000002], [46.617902, -93.26346], [25.848907, -80.31438], [41.29293, -111.63277], [24.859981, -80.721701], [34.043306, -118.1692], [34.817865000000005, -82.425709], [41.761018, -87.892953], [25.685719, -80.402464], [34.083832, -117.69307], [47.500666, -122.275319], [34.099425, -117.860369], [44.846065, -93.123679], [39.995815, -75.615785], [39.142409, -121.590938], [45.03575, -93.343437], [32.74492, -96.72657], [34.042355, -118.182288], [33.622015000000005, -84.39970799999998], [30.418032, -91.146811], [38.35619000000001, -81.646588], [25.771662, -80.369318], [45.759719, -93.041871], [42.38513, -83.16466], [29.56722, -98.36575], [38.944275, -94.770636], [26.092181, -80.219652], [40.16311, -79.541981], [35.559601, -120.537432], [33.929457, -118.249276], [33.892269, -98.516373], [27.770794, -82.731898], [35.4493, -83.37728], [33.6548, -112.11461], [25.566663, -80.346873], [32.648609, -96.883674], [35.83445, -78.85545], [28.552982, -81.394589], [29.777027, -95.412254], [33.607228000000006, -114.599448], [44.10235, -123.17136], [39.076021, -94.598258], [28.449055, -81.470923], [37.739313, -121.590853], [36.780164, -119.784572], [33.38568, -111.864734], [33.93914, -84.50166], [39.710773, -75.59218800000002], [33.073445, -117.070153], [28.443356, -81.38780200000002], [28.450781, -81.477807], [34.263969, -118.987105], [33.945378000000005, -118.365316], [39.959431, -75.175269], [34.134245, -117.986339], [38.030273, -78.02913199999998], [33.916994, -118.0804], [38.61408, -109.621869], [37.575377, -120.847043], [35.08163, -80.950971], [46.377893, -92.787276], [27.743192, -80.929895], [36.845709, -76.255942], [40.76292, -73.86065], [38.845332, -76.934287], [34.38262, -118.48812], [34.152722, -118.098681], [35.006207, -85.518575], [41.06502, -75.353791], [30.321742, -85.6112], [29.66346, -95.38519], [38.846526, -77.431513], [34.364789, -82.32621800000003], [33.78337, -84.49543], [29.966319, -90.110849], [45.648097, -111.208591], [36.842219, -76.229979], [40.82307, -72.99701], [33.836531, -117.331097], [44.94419, -93.07766], [33.934633000000005, -118.279831], [35.132071999999994, -85.24369300000002], [34.081509999999994, -118.294311], [29.479812, -81.185146], [34.824095, -82.256344], [34.056062, -117.546582], [48.83899, -122.25553], [38.489431, -121.802769], [26.62795, -80.0705], [33.854225, -117.79065], [34.064205, -117.810589], [34.013013, -117.550512], [39.716031, -84.21543199999998], [36.01541500000001, -78.57215], [33.873290000000004, -118.34264], [35.13743, -80.90630999999998], [40.785061, -73.824208], [27.902773, -82.344309], [30.03287700000001, -89.98724], [41.13947, -111.85086], [34.25374, -118.431735], [33.104847, -117.093112], [36.992727, -122.02813], [37.982437, -121.249954], [33.940889, -117.261729], [37.355311, -77.44659399999998], [33.765734, -117.825332], [43.590468, -116.35563700000002], [35.02608, -82.03274], [41.16160900000001, -112.062954], [28.341811, -81.403665], [34.135220000000004, -118.35876], [43.653425, -76.078283], [39.01794, -77.10347], [25.795975, -80.231535], [38.06975, -122.53879], [45.40404, -118.33825], [40.987464, -73.671869], [28.128, -82.3765], [38.895288, -76.848504], [39.187303, -78.201592], [39.715071, -74.98921], [28.467101, -81.330761], [38.83722, -104.7945], [35.8687, -84.43815500000002], [41.43141, -81.33808], [34.137729, -112.14834], [42.210966, -88.11143299999998], [39.18182, -76.78424], [39.3675, -77.225679], [33.774522, -118.074915], [27.446348, -82.49354], [28.988011, -81.993371], [45.985443, -92.947828], [35.27306, -80.843645], [28.573822, -81.197547], [32.380431, -90.147231], [47.4293, -122.27481], [38.411567, -121.389745], [28.497348, -81.39694], [25.655478, -80.38329], [35.2901, -80.75721999999998], [27.52986, -82.50834300000002], [34.44042, -118.59981], [29.737485, -95.505718], [33.750345, -78.868736], [40.701, -74.15549], [44.835687, -93.398478], [37.63497, -122.08695], [33.765911, -117.94127], [32.893312, -80.018488], [34.064887, -117.315417], [40.840526, -96.73832], [41.97979, -73.95255], [41.318979, -96.06445], [33.923173, -118.291529], [36.37527100000001, -86.986087], [27.752088, -82.653217], [34.29598, -117.45508], [28.117131, -82.74003499999998], [44.2671, -123.172208], [33.462711, -117.662999], [34.13539, -118.00448], [28.453291, -80.979913], [38.436151, -78.85519599999998], [41.01193, -73.70214], [34.48938, -120.22589], [33.916453000000004, -118.286058], [34.695366, -82.533249], [35.836937, -78.659201], [33.847753000000004, -118.272265], [32.70427100000001, -80.871123], [38.599911, -121.410736], [35.733021, -79.365824], [42.28201, -85.37165999999998], [33.895751000000004, -118.050638], [41.185489, -111.94908], [41.517529, -72.82765699999999], [28.060147, -82.70915], [25.9335, -80.280563], [25.686005, -80.39960699999997], [38.92579, -76.964486], [35.8499, -78.5801], [25.561441, -80.363069], [41.22296, -96.04825], [45.621293, -94.007786], [39.87425, -83.05225], [38.702441, -90.450085], [41.26373, -73.68382], [45.290955, -93.557306], [27.185508, -80.320883], [35.92208400000001, -79.185864], [33.877019, -118.142686], [32.855769, -96.870884], [34.081675, -117.704801], [38.603549, -75.51527800000002], [27.792909, -82.334982], [36.91493, -76.26463000000003], [45.341461, -123.16486], [35.270808, -119.228259], [25.796982, -80.336225], [28.206124, -82.66490999999998], [30.456269, -97.666358], [33.962782000000004, -118.246078], [33.936955, -84.498094], [28.42435900000001, -81.40478399999998], [38.392093, -107.48476], [38.364586, -76.974932], [28.288155, -80.738892], [41.108697, -75.96050699999998], [34.277509, -118.610518], [44.952083, -93.067971], [28.424607, -81.404785], [25.581467, -80.366943], [38.336922, -77.495479], [45.53411, -122.564536], [27.98167, -82.30229], [36.923052, -119.85835], [32.713962, -96.792543], [34.425284000000005, -118.423635], [30.410917, -85.690228], [43.67986, -93.46512], [28.539694, -81.39724100000002], [38.32165, -85.615688], [47.589844, -122.320736], [42.487338, -73.674305], [41.81917, -87.91039], [35.378581, -119.044589], [34.26576, -118.44871], [34.070186, -117.487696], [25.684676, -80.387136], [33.51625, -86.824704], [39.923443, -76.882785], [42.759411, -121.837718], [32.70318, -96.59958], [40.00336, -75.07734], [37.354804, -121.838401], [40.84774, -74.42761], [41.530476, -72.768856], [28.434597, -81.40423299999998], [33.994868, -118.404566], [40.04452, -76.30896700000002], [35.658284, -120.507692], [41.455203, -78.43381], [32.676274, -96.696614], [42.609883, -124.39168], [37.91249000000001, -122.06706], [25.93401, -80.205012], [42.1524, -88.13605], [37.8443, -122.29767], [37.052561, -121.25326], [36.14835, -86.78022], [43.791202, -70.315268], [30.392201, -86.304355], [33.746163, -117.980924], [34.745670000000004, -118.492893], [44.9125, -93.27464], [37.710881, -121.719082], [35.123022, -90.067538], [33.920505, -117.432003], [40.64732, -74.5252], [42.74011, -83.472608], [45.5119, -122.70458], [41.90578, -87.96486], [32.91856, -96.854057], [38.65891, -120.998521], [25.577361, -80.370664], [37.63857, -122.404883], [47.990051, -97.0922], [30.451512, -86.638594], [33.991865999999995, -118.174774], [36.273936, -86.797135], [33.53553, -113.14713], [40.84624, -77.722844], [42.466341, -88.079503], [30.262425, -97.733766], [29.776052000000004, -95.186577], [30.124309000000004, -81.79644], [35.092341, -80.950358], [38.76044, -77.184032], [34.06729, -117.55432], [33.494642, -112.043884], [40.642751, -74.637905], [33.853951, -117.975021], [38.419385, -81.802996], [39.648676, -75.621746], [25.796982, -80.336225], [33.689885, -117.768525], [26.164583, -80.160751], [33.909748, -118.23363], [39.042191, -94.667258], [37.138933, -79.972926], [33.57424, -112.01711], [34.135304, -117.487717], [38.926853, -75.994584], [28.02549, -82.504867], [33.398437, -86.78623499999998], [32.828873, -96.827438], [40.67622, -73.5713], [34.070167, -117.199168], [41.468366, -81.756723], [25.834915, -80.241233], [25.799972, -80.369235], [32.815940000000005, -117.00153], [43.95548, -92.30388], [33.913266, -118.132238], [36.03305, -79.80118], [35.799916, -78.693798], [41.683062, -93.018761], [39.782367, -75.182327], [40.650342, -80.03919599999998], [45.17423400000001, -93.122586], [32.861740000000005, -96.65757], [35.219045, -80.871337], [34.03143, -83.88441], [37.916575, -121.291042], [42.978037, -83.726912], [42.382986, -87.953878], [38.65755, -121.382927], [36.275851, -86.845771], [34.184001, -118.127352], [34.047704, -118.007873], [38.427901, -122.850569], [28.43837000000001, -81.39907], [43.700989, -70.50000899999998], [35.22393, -80.88323000000003], [25.671144, -80.43269699999998], [40.116564, -74.13054100000002], [25.521358, -80.453342], [35.264167, -119.221667], [33.924683, -118.10397], [34.020495000000004, -118.194105], [39.318685, -76.744545], [33.805221, -118.207494], [40.939982, -77.728936], [33.93931, -117.199404], [26.26842000000001, -80.16871], [33.717154, -84.313238], [37.25612, -121.871], [32.709183, -117.098721], [25.733894, -80.28828100000001], [44.4438, -88.58638], [41.72382800000001, -87.808899], [38.544791, -81.309503], [34.072251, -118.059987], [38.871168, -77.166246], [33.520047, -112.112405], [25.807486, -80.231981], [29.783864, -95.456704], [35.08187, -89.89745], [40.70664, -74.06101], [42.07813, -87.75855], [33.654616, -112.114381], [41.98476, -88.08027], [42.713781, -123.366669], [30.378516, -97.680162], [39.64896, -77.56833], [38.6811, -121.53997], [35.884719, -119.250377], [33.363805, -111.893952], [34.021157, -118.477548], [33.501718, -111.787162], [39.165155, -75.681832], [30.416865, -87.291013], [34.274479, -88.70411700000002], [40.938688, -73.85551], [34.992728, -107.084011], [30.195858, -82.758484], [38.820944, -77.12859], [45.488303, -122.81413899999998], [32.938590000000005, -96.82208], [35.065001, -80.846253], [32.33758, -111.0882], [35.832987, -78.698528], [30.310008000000003, -97.667175], [38.80909000000001, -121.205529], [41.647164, -122.520377], [32.43802, -80.779177], [35.165385, -82.084725], [35.90961400000001, -84.12893100000002], [34.122405, -117.911954], [29.749499, -95.456178], [28.495098, -81.435507], [38.610396, -121.382863], [34.087216, -117.660731], [33.663546999999994, -117.794582], [33.700369, -84.088684], [45.693487, -118.937559], [36.97822, -122.031694], [36.385291, -119.350222], [34.02888, -118.00291], [37.96304, -78.080083], [41.825712, -73.77135799999998], [45.53601, -122.68532], [38.69472800000001, -121.351458], [34.00046, -118.17511], [33.6792, -112.402356], [47.294575, -122.313479], [34.991625, -80.85361], [27.439472, -82.530264], [27.462493, -82.63696999999998], [45.519981, -123.032582], [40.908537, -74.50223299999998], [35.25954, -80.79505], [41.551938, -73.044137], [41.76488, -72.629595], [39.16016, -77.63839200000002], [33.124004, -117.103646], [40.173095, -75.504487], [34.15667, -118.41753], [33.791270000000004, -117.49714099999998], [37.770949, -122.405755], [29.604285, -95.423289], [39.64995, -104.91648], [45.141373, -93.391953], [40.73916, -73.793182], [34.137821, -117.331102], [44.665005, -89.71976], [34.077564, -118.283634], [25.931383, -80.30974], [42.94675, -85.67545], [34.036772, -118.2866], [33.623517, -79.22283], [28.307992, -81.365524], [39.97957, -77.23526], [39.851185, -75.375295], [37.040029, -77.62483399999998], [34.098423, -117.855078], [39.72532, -105.01784], [25.894154, -80.162382], [34.031825, -117.550444], [40.560941, -75.45459100000002], [35.30042, -80.80164], [33.946888, -79.857292], [26.68052, -80.20940999999998], [42.518574, -122.86666], [36.146149, -95.988671], [45.45192, -122.72753], [36.1018, -79.77524], [38.037314, -121.255407], [29.436267, -98.503729], [34.226085999999995, -118.375669], [38.036824, -109.344466], [27.821207, -82.664509], [32.901166, -97.09396], [32.790806, -96.888808], [32.85027, -79.98746], [47.15845, -122.39822], [25.733227, -80.33381800000002], [25.783418, -80.306043], [33.516726, -112.112265], [28.61203900000001, -81.174127], [42.23262, -87.8552], [30.415006, -86.60625], [27.4624, -82.60415], [30.27092, -97.463566], [35.99270999999999, -86.5928], [41.078466, -87.151576], [37.808253, -122.366974], [25.869378, -80.20384399999998], [38.986135, -94.502298], [42.43751, -123.27864], [39.04953, -77.1144], [32.90764, -96.76882], [37.14435, -121.98468], [43.15125, -77.61107], [35.038651, -85.68594499999998], [45.59048, -122.99708], [36.208832, -80.301948], [34.030559999999994, -117.64511], [42.54586, -73.80244], [32.814189, -96.611654], [34.156833, -118.41378], [40.18010200000001, -122.22486299999998], [32.668089, -116.823652], [30.361024, -97.641214], [35.77272199999999, -78.630061], [28.556292, -81.835026], [32.851822, -117.180539], [25.950257, -80.196313], [41.553629, -73.055125], [38.502663, -90.699749], [37.381356, -121.859782], [38.97154000000001, -77.24197], [35.78082, -78.74861], [42.849106, -73.407967], [37.393909, -120.73999], [43.303266, -123.124777], [30.518602, -91.146421], [33.74463, -84.39923], [25.62762, -80.341566], [44.13216, -123.05044], [33.879749, -117.552971], [33.918997999999995, -118.196151], [39.28458, -76.7358], [43.278689, -123.192909], [36.789549, -121.667508], [38.904937, -91.549726], [46.832365, -95.738677], [35.366244, -82.465574], [47.892885, -113.83191399999998], [33.42507, -111.891899], [43.041149, -87.92520999999998], [32.456547, -93.746048], [32.96008, -80.07088], [34.0238, -118.24385], [34.059409, -118.175733], [34.300292, -119.302221], [32.74492, -96.72657], [36.84489600000001, -76.26912800000002], [40.136954, -75.175155], [42.512965, -84.655687], [39.989279, -76.733762], [30.29379, -91.92027], [39.06665, -77.10073], [40.844866, -73.925262], [33.827301, -84.229034], [35.37718, -97.5213], [34.071940000000005, -118.084391], [33.139509999999994, -117.14468], [34.505835999999995, -118.11459], [43.978121, -93.255368], [38.580411, -77.32386899999999], [28.548537, -81.447429], [43.57792, -124.18895], [32.771212, -117.131839], [33.87484, -118.06291], [32.646440000000005, -117.05918], [44.056682, -71.682751], [38.98707, -94.551755], [30.47819, -84.23656], [36.964302, -122.00366499999998], [27.84667, -82.76228], [46.15327, -123.4147], [28.32617, -82.66608199999997], [28.552392, -81.448734], [37.963144, -85.694156], [34.051838000000004, -118.438777], [29.787235, -95.521845], [43.099842, -75.216942], [37.930051, -121.038104], [32.835234, -96.632196], [39.98651, -78.26171], [34.119061, -118.152304], [45.006254, -93.45712], [33.748119, -117.832383], [39.991898, -75.272375], [41.79684, -88.05705999999998], [28.449055, -81.470923], [39.344425, -76.49369300000002], [25.685417, -80.416648], [33.891084, -118.10447], [33.759143, -78.968686], [38.213019, -122.212952], [34.039307, -81.11162], [34.818698, -82.2768], [33.017714, -117.103979], [44.915446, -93.274644], [45.808486, -119.961229], [28.326203000000003, -81.411151], [38.55373400000001, -121.375841], [25.89176, -80.193692], [36.15839, -86.76044], [45.60188, -121.1447], [33.887318, -118.35648], [25.81135, -80.18508299999998], [43.098077, -123.367572], [38.22682, -85.76899999999998], [32.77923, -117.06947], [27.956224, -82.499288], [47.62995, -122.32673], [29.976944, -90.079467], [43.036, -89.394191], [40.76443, -111.974829], [25.76293900000001, -80.26321999999998], [27.46255, -82.60410999999998], [34.081720000000004, -117.707184], [35.508318, -120.671411], [34.036125, -117.762691], [32.368203, -86.12731], [37.969541, -121.461717], [33.873049, -87.440797], [34.071467, -118.122988], [41.15397, -73.245699], [46.138297, -107.511466], [39.18638, -104.85025], [37.703393, -121.736852], [45.342311, -122.35094], [41.56481, -73.05792], [34.072990000000004, -117.78463], [32.301952, -80.96594499999998], [44.96705, -93.22389], [34.257316, -118.470664], [33.462477, -112.214537], [32.90738, -96.72938], [38.910695, -94.773863], [41.29045, -72.42501999999998], [44.83083, -93.29322], [45.506647, -122.771669], [37.569882, -120.31923700000002], [35.975689, -83.918575], [41.878854, -87.91894599999998], [40.86709000000001, -74.44593], [35.33765, -118.83984], [42.39677, -122.92897], [34.521107, -117.983662], [33.988418, -117.348593], [35.008973, -85.24489200000002], [26.00669, -80.247934], [33.772219, -84.390374], [41.45501, -71.83588], [30.476276, -87.30846], [44.95178, -90.738577], [40.058517, -77.480603], [38.237015, -85.62370899999998], [40.980911, -74.085233], [38.255891, -122.064636], [33.10396, -80.12671], [45.54079, -122.29839], [45.533777, -122.580248], [39.166411, -84.506099], [43.81448, -122.58568], [36.784541, -76.233611], [33.925224, -118.328775], [37.32777, -121.87819], [37.632981, -77.357235], [36.995955, -122.019771], [26.749531, -81.861587], [46.26741, -95.770317], [45.501412, -122.662214], [39.712754, -86.056758], [38.560302, -121.457306], [39.520743, -77.60019399999999], [36.2703, -119.296635], [27.88112000000001, -82.78703], [36.87263, -76.383382], [40.12690900000001, -76.218563], [33.612672, -117.096127], [45.06884, -93.26336], [25.705575, -80.285494], [25.565814000000003, -80.36279499999998], [37.847464, -122.22769], [40.049498, -75.521446], [36.325401, -119.081234], [28.210926, -82.73948], [34.013489, -81.143742], [34.024966, -118.041731], [33.609124, -117.699497], [33.559595, -117.672082], [36.150716, -78.721772], [25.688377, -80.350889], [40.72429, -111.90703], [28.4528, -81.364199], [39.6838, -84.22976], [39.57653, -104.87467], [33.974785, -78.74223], [28.204205, -82.65156400000002], [42.46116, -92.631622], [45.06984, -93.288554], [34.230671, -118.397557], [41.51989, -87.99004000000002], [38.597977, -77.336251], [34.646138, -82.306956], [33.90465, -117.459886], [26.033201, -80.164532], [32.780545000000004, -117.113155], [36.807143, -120.42431100000002], [30.3682, -81.76082], [33.946155, -118.170479], [38.780296, -77.079175], [42.195439, -73.91977], [33.716027000000004, -117.96698], [38.166763, -77.505263], [36.133271, -86.81893199999998], [40.382602, -77.87948399999998], [43.560651, -121.476851], [38.96501, -78.43673000000003], [37.888935, -121.623061], [33.676953999999995, -117.844286], [37.192829, -80.273376], [32.53783, -93.63812], [38.885818, -89.840365], [38.756278, -112.10536100000002], [26.547684000000004, -81.78012199999998], [41.57216, -81.52656], [34.119616, -117.867382], [32.667997, -117.080572], [41.22235, -111.97884], [38.928764, -94.756419], [28.54329, -81.24430500000003], [34.6166, -117.871552], [43.007412, -83.71267399999998], [37.62076, -122.425965], [42.23788, -85.64474], [39.268883, -76.63116099999998], [43.073261, -76.209701], [25.704188, -80.29095799999997], [33.854085, -117.889319], [41.752963, -78.105246], [41.68003, -71.10725], [33.883781, -117.528699], [36.32714, -119.26521], [34.06774, -117.83548], [33.998844, -117.855069], [25.892087, -80.209571], [32.819764, -96.63557], [46.164776, -123.892532], [39.169521, -76.803531], [42.36969000000001, -83.05899000000002], [44.047142, -92.490025], [36.561251, -119.612678], [29.971986, -90.066581], [32.77929, -116.99388], [36.180199, -86.606329], [32.327463, -86.237122], [42.723243, -73.369171], [34.642917, -82.457802], [32.708377, -96.830546], [39.196181, -94.589853], [40.059274, -76.359952], [27.926622, -82.40187900000002], [33.991466, -118.282681], [38.11798, -85.74146999999998], [38.67317, -77.242026], [33.95644, -117.306328], [38.72705300000001, -77.186025], [41.246283, -73.091471], [33.675059000000005, -80.899447], [30.404933000000003, -97.712043], [32.282863, -90.213986], [39.348529, -123.530712], [26.010729, -80.178649], [34.031099, -118.2746], [28.510525, -81.169207], [27.099183, -82.20819300000002], [33.927609999999994, -118.27271], [45.295313, -93.553168], [29.927287, -90.093933], [38.523915, -122.496615], [25.590527, -80.502792], [37.903353, -122.31256299999998], [40.976461, -73.69984000000002], [38.859136, -123.038896], [35.233804, -80.844735], [25.703765, -80.293387], [39.384821, -123.343762], [27.9416, -82.54824], [40.239046, -76.80189], [40.741914, -73.78316], [27.29997, -82.497632], [25.949878, -80.204612], [34.15592, -118.30723], [41.76919, -87.62605], [40.00385, -83.03035], [33.987485, -117.89037], [36.083386, -79.08283], [28.17861, -81.639718], [40.438386, -120.649774], [39.545581, -107.662777], [38.148666, -104.090126], [47.20065, -122.46157], [44.054904, -121.261981], [44.950507, -93.099795], [32.834862, -96.665377], [38.335985, -121.159859], [29.273000000000003, -82.19543], [33.927865999999995, -118.27156200000002], [39.430993, -77.416041], [32.957003, -117.245227], [27.980996, -82.453841], [39.820617, -104.982551], [25.580293, -80.45245], [45.04387, -93.40096], [34.137440000000005, -80.860988], [40.707964, -74.156134], [37.315596, -77.40032], [40.03361, -75.267165], [25.884072, -80.352151], [35.40623, -97.53909], [34.077535, -117.208774], [38.45825, -77.40844], [37.039178, -120.154271], [41.302668, -74.13282], [34.024729, -118.239231], [39.056286, -84.432201], [35.146435, -80.896012], [38.86745, -77.063437], [29.742453, -95.415273], [32.770649, -117.072756], [34.081853, -117.702637], [25.568758, -80.362812], [38.104972, -75.636237], [34.054515, -118.203011], [28.42564, -81.39774], [37.467475, -122.152667], [42.38615, -88.00416], [32.658968, -117.084548], [32.658435, -117.075129], [25.808947, -80.309186], [28.472857, -81.367824], [33.321664, -111.972131], [42.06647, -88.15356], [25.89509, -80.209411], [33.029311, -96.708644], [25.670988, -80.413044], [36.40308, -82.609902], [34.015734, -117.715425], [30.431587, -91.080756], [35.64008300000001, -78.835219], [36.917957, -81.252189], [39.56216, -105.01505], [47.50724, -121.89], [32.683440000000004, -97.40668], [37.808862, -122.254975], [33.994239, -117.887816], [33.547270000000005, -117.67304], [33.492376, -80.855271], [34.561499, -118.132624], [32.945557, -117.083973], [40.56329, -111.89898], [42.972511, -86.097397], [34.1345, -117.66431], [36.5105, -121.43609], [33.202061, -117.376907], [41.39557, -85.552491], [34.15953, -118.46123], [34.14562, -117.306], [47.601836, -122.329018], [34.54521, -117.30104], [25.92792, -80.20861500000002], [39.316409, -77.352089], [37.57598, -121.88112], [36.986964, -121.985524], [38.62157, -90.12034], [30.46091, -81.64892900000002], [27.487456, -82.562793], [34.01846, -118.27934], [35.915454, -78.68686], [34.257392, -118.472143], [26.850081, -80.10849499999998], [35.05807, -80.81234], [40.013097, -75.724586], [38.970889, -77.17911099999998], [42.099748, -121.83708], [39.93124, -86.02675], [37.554745, -77.485107], [25.808224, -80.313148], [32.77779, -96.78403], [43.590387, -116.354459], [39.984558, -76.73060699999998], [41.2343, -73.20076999999998], [38.483512, -121.408801], [33.913940000000004, -84.47998], [43.934217, -92.298904], [40.23619, -111.6873], [25.942271, -80.34225500000002], [25.705014, -80.334372], [34.018974, -117.498466], [32.773672999999995, -80.459681], [45.15828, -93.163903], [37.60181, -77.56402], [40.704785, -111.90353], [33.963268, -80.919676], [30.264005, -97.735732], [41.857856, -87.91971], [37.70227, -121.74506], [42.949751, -78.61746600000002], [36.084502, -86.704748], [29.74481, -95.303011], [25.871727, -80.38164], [33.967503, -118.161005], [25.702344, -80.335044], [34.8186, -82.290774], [40.72606, -111.96284], [48.217396, -114.223259], [35.21116, -80.86655], [29.179194, -81.88335699999998], [40.047601, -80.66064399999998], [37.700547, -122.121763], [39.560268, -85.789807], [33.707195, -117.084918], [40.164039, -75.481175], [34.18578, -79.81209399999999], [35.360595, -119.039601], [34.383811, -118.486065], [34.638884000000004, -92.449028], [39.77939, -86.27016], [27.549071, -82.562919], [34.852789, -119.127055], [43.194411, -75.452867], [33.8734, -118.26601], [38.029697, -79.049225], [40.7665, -111.99669], [28.408108, -81.448588], [25.951391, -80.348285], [41.199694, -76.728131], [28.466941, -81.33075600000002], [35.22271, -80.72891], [28.227067, -82.691014], [36.703554, -119.77061299999998], [35.709812, -78.62381500000002], [45.24179, -93.66556], [48.15604, -122.243974], [33.878643, -118.192482], [30.306772, -97.757684], [35.181111, -80.89081800000002], [38.247878, -77.490662], [42.928465, -78.766382], [33.8763, -118.099832], [34.120038, -117.819526], [40.54598, -74.613884], [40.127402, -75.404845], [33.88414, -118.02911], [40.886135, -74.0676], [25.476966, -80.45277], [36.129164, -86.840901], [35.37018, -80.83143000000003], [25.98573, -80.14232], [48.88993, -122.59325], [27.477533, -82.608162], [43.170767, -77.599806], [29.766790000000004, -95.36639], [29.81031, -95.34288], [39.65262, -77.92041], [33.363712, -111.968653], [39.595433, -84.200287], [27.19627100000001, -82.440354], [40.754011, -74.124222], [32.661797, -96.726241], [35.364973, -118.918643], [33.598872, -117.677764], [37.989647, -121.242355], [33.058598, -117.070363], [35.359626, -119.039595], [34.02625, -118.03927], [32.19891, -110.89236], [38.670362, -104.707142], [39.153631, -74.748347], [25.805096, -80.20596], [28.842512, -82.060521], [32.788046, -117.20716000000002], [25.93206, -80.20382], [44.82635, -93.291466], [37.635372, -77.463601], [33.553023, -112.112492], [37.49543, -121.95229], [36.844804, -76.268435], [25.812532, -80.206864], [29.73073, -95.41928], [38.697543, -77.256385], [37.290765, -120.321119], [33.779175, -117.876143], [41.71115, -72.643414], [41.65237, -93.70524], [32.295316, -95.261963], [39.680138, -105.89458799999998], [32.662213, -96.855448], [40.076088, -74.21700899999998], [35.297742, -119.0313], [43.973926, -92.426809], [39.883332, -75.352436], [38.524993, -121.463073], [35.21392, -80.83746], [38.772071, -77.182055], [39.385233, -76.662426], [34.101531, -118.316633], [40.629039, -77.577676], [33.667273, -112.20674], [25.927814, -80.20382], [46.34031, -94.6468], [28.048629, -82.749189], [37.10531, -76.45695], [40.60223, -74.06212], [43.597065, -116.2951], [38.697142, -121.358627], [38.568186, -121.510901], [29.8136, -95.353275], [37.58581, -122.051591], [34.0378, -118.2798], [33.81225, -118.28748], [39.497818, -119.783979], [34.182049, -118.320621], [35.075532, -81.738281], [32.908516, -80.026607], [35.1669, -80.74264000000002], [37.45442, -120.80196200000002], [33.767569, -117.921441], [39.194948, -119.770373], [32.448982, -93.791756], [40.72827, -73.97176999999998], [33.138659999999994, -80.313845], [33.596914, -112.023989], [37.65105, -122.090658], [42.396968, -83.218062], [30.531961, -87.210887], [45.108805, -93.301169], [33.946888, -79.857292], [40.041246, -74.806414], [35.014876, -85.314361], [47.46805, -92.52502], [44.09721, -123.12623899999998], [27.996252, -82.395015], [44.758403, -117.817625], [35.086960999999995, -80.83758399999998], [28.695956, -81.38718], [40.254625, -75.35149799999998], [35.821049, -78.623406], [35.906764, -78.894549], [41.6959, -92.16772], [28.536741, -81.01785699999998], [34.173157, -118.535976], [30.26344000000001, -82.75152], [29.718132, -95.500419], [40.315888, -104.98003], [38.37614600000001, -77.46135699999998], [33.171125, -87.54684], [41.59509, -93.64907], [40.638281, -122.745285], [41.85065, -71.42499000000002], [37.725087, -77.449826], [44.56393, -123.237446], [25.890177, -80.188547], [38.025745, -122.259506], [30.190168, -81.667062], [34.840506, -81.968997], [34.634525, -81.975411], [40.4419, -79.82611999999997], [32.862334000000004, -117.187993], [38.652571, -121.225503], [38.820591, -77.465108], [41.982035, -77.186897], [41.556741, -90.534605], [39.07541, -120.96146], [25.684325, -80.41642900000002], [39.031076, -94.500349], [29.948909000000004, -90.078372], [35.778236, -78.638245], [28.451018, -81.358626], [29.766629, -82.50544599999998], [25.626002, -80.382204], [29.94938, -90.08598], [36.085346, -86.72857900000002], [38.270662, -122.667987], [41.584872, -72.053242], [34.8539, -82.481247], [40.6668, -73.8367], [32.31756, -89.610403], [29.588702, -95.186308], [33.878198, -117.880229], [27.98147800000001, -82.31130300000002], [33.386881, -111.95861], [25.94061, -80.19046], [25.93976, -80.204971], [33.956025, -118.109325], [29.929322, -90.032454], [33.917041999999995, -118.079686], [38.685935, -77.44127399999998], [36.057777, -118.993337], [39.89862, -75.18039], [37.63769, -121.361178], [33.45301, -86.818625], [36.987882, -121.992629], [35.704073, -78.640749], [45.085388, -93.009788], [37.84407, -122.297648], [39.77289, -104.83398], [39.71134, -105.0533], [44.9486, -92.960959], [34.048165000000004, -118.266009], [35.769315, -78.61811999999998], [43.871427, -70.328825], [38.02946, -122.74334], [38.619599, -121.418548], [37.32503, -121.940528], [26.580744, -80.069099], [30.300998, -81.601247], [36.60721, -120.589405], [42.29653, -71.4793], [26.710268, -81.807755], [25.878179, -80.242796], [39.95361, -82.96103000000002], [30.254764, -97.916475], [39.3808, -77.25496], [45.782035, -111.200534], [34.0655, -118.25203700000002], [37.959772, -122.330645], [34.15955, -118.46267], [39.586604, -79.94556700000003], [38.91681, -76.9323], [45.71762800000001, -93.641118], [27.557498, -82.42542399999998], [35.622817, -78.566864], [37.794524, -121.190646], [38.694016, -121.37182], [33.822874, -117.832168], [34.128746, -117.938159], [32.308799, -110.875109], [39.424618, -121.688152], [33.87636, -118.08778], [40.683277, -75.307845], [38.45971, -77.408516], [38.994298, -77.376692], [40.297896, -78.87910500000002], [29.80802000000001, -95.261921], [38.643232, -77.286705], [40.094974, -75.911869], [28.008721, -82.742948], [36.833655, -76.133104], [32.464855, -93.712906], [38.092923, -120.48026000000002], [41.21887, -96.09113], [33.48076, -117.14098], [37.788392, -122.198892], [39.35906, -77.53535], [44.073736, -95.744569], [39.757371, -105.009998], [33.221319, -111.988327], [45.024959, -93.400874], [38.464111, -123.150247], [34.10831, -117.294234], [30.931009000000003, -87.925349], [37.01291, -76.45640999999998], [40.61535, -111.509031], [32.782449, -96.682733], [30.18695, -97.602664], [44.716104, -117.752462], [40.827234, -115.209175], [37.685073, -113.101758], [33.91178, -80.120469], [25.689146, -80.38287199999998], [37.218763, -119.70783], [25.714093, -80.428666], [25.701784, -80.348052], [28.538478, -81.338964], [38.55794, -121.38579], [40.790748, -73.792698], [33.968128, -118.167544], [29.851557, -95.333961], [34.272807, -118.582873], [39.341644, -94.740182], [45.163778, -93.521874], [39.61509, -119.2129], [41.195155, -73.686501], [34.933679999999995, -79.83559699999998], [25.687239, -80.355226], [37.524901, -122.358233], [39.88156, -75.245752], [26.15485, -81.68661999999998], [32.675166, -97.007209], [25.758269, -80.368415], [46.822813, -100.83137], [33.01882, -117.0788], [44.07261, -91.72804], [40.256864, -76.791899], [33.92631, -118.21353], [29.962189, -90.074762], [40.809348, -77.82512], [34.400585, -80.994247], [45.33141, -122.76912], [34.25592, -118.434062], [38.625472, -77.294729], [32.962508, -80.154838], [44.19137, -94.001862], [43.95497, -92.100144], [25.768407, -80.370976], [35.895925, -86.488525], [41.30755, -72.91448000000003], [44.930959, -93.071247], [36.077374, -86.766318], [33.916047, -84.40664699999998], [25.732547, -80.355745], [38.78676, -121.22484], [33.84376, -118.20603], [30.44825, -90.14582], [30.210507, -97.713503], [29.606936, -95.267355], [40.691181, -74.267395], [33.78487, -84.24601], [38.720826, -120.67471], [40.76259, -74.113088], [45.621431, -121.531254], [26.037377, -80.163542], [38.651111, -76.883255], [33.615970000000004, -112.11677], [37.783856, -122.180552], [30.313886, -81.659413], [35.64510900000001, -86.893647], [38.217581, -122.603812], [35.208832, -80.799518], [42.261257, -88.00394], [33.944545, -117.289685], [42.15376, -88.02946999999998], [41.61553, -90.77756], [32.678269, -117.109628], [40.8349, -80.37358], [36.32751, -119.260339], [34.852205, -119.120389], [36.882997, -76.431062], [37.79578, -122.26763], [39.02868, -84.53452], [28.332871, -81.525131], [42.28, -87.9053], [40.28837100000001, -76.20339200000002], [33.996807000000004, -118.146379], [34.06841, -118.03837], [40.861712, -80.282515], [43.06786, -87.92055], [33.924564000000004, -117.226287], [44.392157, -123.061112], [29.081631, -82.269437], [41.45126, -96.38658], [36.01176500000001, -120.136081], [38.996511, -121.10903799999998], [34.030063, -117.712061], [25.627141, -80.383572], [34.0368, -118.02375], [38.91596, -77.21788000000002], [34.121312, -117.30255], [34.077646, -117.62121299999998], [26.230382, -80.126426], [34.170653, -118.609079], [30.226167, -97.769597], [37.646479, -122.405557], [41.874893, -123.84328700000002], [33.443490000000004, -111.89104], [40.87377, -73.98254], [34.771589, -82.272738], [36.176551, -86.77251899999996], [39.26929000000001, -76.55897], [34.043608, -118.443588], [32.346031, -95.267277], [28.568397, -81.284258], [30.346822, -81.664344], [34.999701, -81.976339], [37.732744, -120.839601], [27.61703, -82.65303], [39.295962, -77.33398199999998], [34.10473, -80.96137], [29.946598, -95.66505], [32.78778, -97.26035], [32.676934, -97.048641], [37.82509, -122.29119], [45.53028, -122.68706], [28.0503, -82.01912], [39.98348, -75.9324], [32.728844, -117.099851], [29.752768, -95.37078], [25.626571, -80.446503], [42.918187, -85.647458], [29.998979, -90.04267], [39.2283, -94.652], [44.007417, -92.482297], [40.087247, -75.387455], [30.481504, -81.643828], [40.71231, -112.024805], [27.387979, -82.448932], [33.371088, -117.257975], [40.034245, -75.01965799999998], [45.082473, -93.180333], [33.853972, -117.924325], [44.83078, -93.2934], [39.140971, -77.61623], [25.806127, -80.313092], [38.90021, -76.991529], [34.791662, -82.42966899999998], [35.439881, -119.021526], [45.203409, -93.572096], [35.208612, -118.967694], [25.842468, -80.215065], [43.619054, -93.347258], [28.421363, -81.402794], [38.817282, -76.948812], [34.221156, -117.409526], [40.59269000000001, -80.09592099999998], [33.004338, -80.234054], [38.515806, -121.468416], [30.36828400000001, -91.074569], [40.868443, -74.00338], [32.684382, -96.822911], [34.183861, -118.155248], [41.478952, -90.632139], [45.747896, -119.115732], [40.08109, -74.93796], [28.491721, -82.598086], [25.809467, -80.252449], [34.857386, -80.889763], [37.526909, -76.82275600000001], [45.945439, -108.151427], [28.687624, -81.38861], [34.070435, -117.412638], [38.591239, -77.317665], [34.006817, -117.964445], [40.81286, -74.10353], [39.937027, -76.726421], [36.08358, -86.70764], [29.516069, -98.576475], [33.71585, -84.249397], [30.231122, -97.720954], [33.66875, -112.073003], [42.47759, -71.11303000000002], [25.796837, -80.367866], [39.752501, -84.174144], [36.064649, -79.522143], [33.927308000000004, -118.103558], [40.25004000000001, -74.08207], [26.49276, -81.806213], [37.49617, -121.067428], [33.886383, -118.326606], [27.939992, -82.337164], [32.707569, -96.888703], [32.357174, -93.886531], [35.24171, -80.85869], [39.24236, -76.67101], [38.674353, -121.741272], [37.991779, -122.077913], [37.93308, -122.414227], [42.4085, -83.08315], [26.115272, -80.316428], [37.74292, -122.397], [32.79736, -96.68684], [38.62136, -90.12039], [37.787271, -81.22069], [42.458478, -83.219536], [38.598306, -77.713554], [39.35509, -120.14628], [29.97335, -90.086803], [37.60577, -77.51831999999997], [45.393052, -122.426566], [27.444308000000003, -82.46898399999998], [32.92583, -96.81281], [40.409494, -120.63496], [33.87673, -118.186], [41.27189, -86.013046], [40.923379, -73.844759], [43.848472, -95.592777], [48.514929, -110.946152], [32.924042, -96.842091], [41.681216, -72.54125400000002], [35.259643, -80.874516], [25.580958, -80.376655], [36.945356, -120.028488], [34.648384, -82.77433], [29.716323, -95.489697], [40.728152, -73.723744], [39.69667000000001, -104.99296], [42.224518, -73.85475100000002], [40.420039, -120.703231], [34.219753000000004, -81.06134], [36.176997, -95.760797], [29.729715, -95.44641], [28.493665000000004, -81.462638], [34.986346999999995, -82.020218], [35.02367, -80.9675], [36.379541, -80.488446], [33.875649, -84.27555500000003], [26.08776, -80.20931999999998], [25.924757, -80.192123], [25.596959, -80.401169], [41.20573, -73.19084000000002], [32.923902000000005, -96.764799], [41.87796, -87.64556], [40.636336, -74.293539], [37.684381, -122.063699], [48.233225, -114.330567], [29.106356, -82.136247], [29.698702, -95.505731], [25.858465, -80.208226], [40.960557, -73.850362], [41.386682, -81.51263], [28.449883000000003, -81.33336], [44.965013, -93.282734], [28.333021, -81.488636], [39.278179, -76.55320999999998], [29.843856, -95.467167], [41.555131, -73.05538], [43.671502, -121.502821], [29.88013, -95.56999], [41.86597, -87.64442], [40.20409, -104.98121], [40.065502, -75.318102], [35.509325, -82.989059], [34.161458, -118.63181000000002], [38.403293, -77.432797], [30.498879, -87.08074599999998], [25.685333, -80.36610300000002], [38.81913, -76.91499], [25.928483, -80.192297], [33.669228000000004, -112.138999], [33.864472, -118.326524], [45.567179, -122.555161], [44.92162, -93.46963], [33.72679, -84.580179], [30.270736, -84.361019], [32.555687, -93.779296], [47.73407, -122.326392], [41.138535, -111.808147], [38.678292, -121.276005], [37.741291, -121.579186], [33.387357, -111.961616], [39.812082, -86.178957], [28.619957, -81.74682299999998], [35.733989, -120.286795], [29.92857, -95.63874], [37.28435, -79.16618000000003], [45.972131, -119.005233], [32.79233, -96.63102], [28.546781, -81.413818], [33.925794, -118.337236], [41.213864, -77.247466], [29.72941, -95.44641], [33.581747, -83.590401], [39.673531, -75.596969], [32.415895, -93.79031], [32.747529, -80.831598], [45.302131, -121.748217], [41.060854, -78.449281], [34.037307, -118.27081499999998], [44.9435, -90.5421], [45.508612, -122.723574], [25.557549, -80.50259399999999], [45.598899, -122.684164], [37.938735, -122.060449], [43.6806, -92.97969], [34.28211, -118.758874], [39.976962, -85.957363], [32.97737, -80.214467], [40.63649, -111.91398], [32.73041, -97.06235], [39.754645, -86.183044], [25.770019, -80.314421], [33.92709, -118.178089], [34.048014, -118.266491], [43.101676, -75.24062099999998], [47.686686, -122.312169], [32.220796, -110.787744], [33.778356, -117.896516], [42.066494, -88.154291], [38.651478, -77.297084], [34.175897, -81.319702], [47.30223, -122.25419], [37.791723, -122.261964], [38.12692, -85.74896], [45.664577, -94.756497], [34.162083, -118.381344], [33.386067, -111.848255], [35.118320000000004, -81.08375], [39.340176, -78.06173100000002], [42.973281, -83.725876], [39.956545, -75.614328], [46.68480200000001, -92.459617], [25.78334, -80.27344000000002], [32.710558, -117.130242], [44.564069, -123.207505], [35.72215999999999, -78.58399], [41.654496, -112.116661], [36.821839, -120.436815], [26.18626, -80.19019899999998], [35.141577000000005, -82.19145400000002], [29.87536, -82.54259], [35.017157, -85.255659], [35.733193, -119.059985], [33.76702, -117.922189], [37.88921, -122.17534], [40.645045, -74.86120799999998], [48.446075, -115.875106], [47.646714, -117.450999], [42.45903, -88.10701], [38.52998, -121.751327], [41.749945, -71.483498], [36.436489, -121.630253], [39.30604500000001, -77.841449], [32.91944, -96.85254], [41.946282, -87.884889], [25.880912, -80.242919], [39.237746, -94.505971], [34.168006, -118.49685], [37.775581, -122.397532], [40.331293, -74.09826600000002], [38.925107, -123.056284], [40.1917, -74.74977], [30.36961, -87.357734], [32.25051, -110.91831], [37.142019, -93.278224], [46.54015, -122.03971], [37.32451500000001, -122.399872], [29.830942, -95.382345], [40.015759, -75.229332], [26.163546, -80.115831], [39.285989, -121.594568], [30.60347800000001, -87.121403], [36.059049, -79.082505], [36.37253, -121.90278], [45.69194, -121.441077], [38.296315, -77.50588], [33.137433, -117.330985], [28.29314, -80.74398000000002], [38.79733, -76.0626], [41.775008, -122.524605], [37.841377, -122.261805], [28.112647, -82.739742], [30.570664, -87.031408], [39.86972100000001, -76.66351800000002], [25.626002, -80.382204], [32.800313, -96.793001], [32.813962, -97.414108], [27.98295, -82.382007], [35.62177600000001, -80.859375], [28.60245, -81.25256999999998], [29.671848, -95.559935], [37.042107, -119.40345], [33.912838, -118.179524], [29.7227, -95.50072], [38.679935, -121.374521], [40.72602, -111.96163], [44.952353, -93.034919], [33.665374, -117.872181], [26.231606, -80.12343800000002], [28.488306, -81.41750400000002], [44.86184, -93.28323], [29.77385, -95.3404], [25.76106, -80.376132], [40.6333, -111.8894], [38.592194, -76.868438], [34.136683000000005, -117.558642], [28.449998, -81.47030699999998], [40.57571400000001, -75.547174], [45.50057, -122.673261], [33.648152, -78.949557], [34.072139, -117.898896], [43.039161, -76.631589], [25.844229, -80.322086], [40.345164, -75.509128], [39.765507, -84.21764300000002], [39.312432, -76.74519000000002], [39.93473, -82.87884], [44.643727, -123.929299], [32.60689, -96.8231], [36.40118, -119.69096], [45.382707, -92.790521], [33.56726, -86.822875], [39.09421500000001, -94.571825], [29.9777, -90.061], [33.256025, -117.068364], [25.810617, -80.313379], [46.942295, -112.781352], [36.026945, -95.886596], [39.983743, -75.097464], [25.868913, -80.216018], [33.657852, -117.777778], [45.622592, -94.563367], [45.520068, -123.054635], [36.325124, -86.873906], [33.56333, -112.11622], [42.072358, -88.33561], [33.974726000000004, -118.237251], [29.926512, -90.100792], [40.73629, -73.84483], [27.89128, -82.64715], [36.012138, -78.553314], [45.439745, -122.769251], [25.74786700000001, -80.330502], [44.1976, -116.98453], [47.62088, -122.34378999999998], [37.492456, -122.385803], [37.33148, -77.011393], [44.52755, -120.363781], [37.7412, -121.58183], [41.223199, -95.996758], [29.769012, -95.606176], [39.821861, -75.44544], [45.414216, -122.467239], [42.801405, -78.81512099999998], [39.76038, -105.00582], [32.889913, -96.755781], [41.915942, -87.91960300000002], [42.757533, -73.738034], [41.044921, -78.417023], [40.83675, -75.02595], [28.494521, -81.396899], [37.421182, -122.092877], [34.039675, -118.052008], [33.46213, -112.05922], [29.639525, -95.43473], [39.27373, -76.723698], [35.07054, -81.7624], [41.520292, -73.097367], [38.851379, -77.79259], [36.253837, -119.16323], [40.061155, -76.357969], [34.050206, -117.303683], [45.575934, -93.388885], [28.56532, -81.19389], [45.52566, -107.417416], [38.694545, -121.362527], [26.37145, -80.17078000000002], [33.868831, -118.002634], [32.861064, -96.77041], [34.042952, -118.272653], [37.40328, -122.04709], [35.91139000000001, -84.12175], [47.62198, -122.18889], [42.92151, -117.25121], [33.437559, -111.943251], [36.759881, -76.272965], [25.771485, -80.28814], [47.200644, -122.461838], [42.354118, -83.086915], [33.139454, -117.14918], [42.767275, -73.739622], [37.204851, -93.261981], [27.479641, -82.554808], [37.648039, -77.591693], [40.667452, -111.95277], [38.041578, -122.536772], [33.820328, -117.517623], [35.147538, -80.827579], [35.853373, -78.828792], [30.22068, -81.585701], [38.660549, -77.248354], [40.78121, -73.56371999999998], [42.61529, -73.730153], [38.674246, -121.740971], [37.47381, -77.59647], [41.171116, -81.763358], [37.62789, -122.08164], [37.597, -77.465859], [30.519734000000003, -91.168605], [34.015025, -118.420878], [32.443397999999995, -93.726653], [39.93126, -75.19925], [35.064514, -80.764974], [43.978239, -93.958286], [29.974676, -90.06684], [30.275, -97.752255], [41.37178, -73.80086], [31.91008, -106.40718], [26.079139, -80.168623], [41.316372, -73.010491], [37.521687, -77.427242], [32.359271, -95.328021], [43.08073, -121.82508], [41.62771, -93.60053], [36.863039, -76.045761], [30.280767, -97.715247], [42.79716, -73.893407], [27.308307, -82.522851], [38.798111, -104.730388], [42.39712100000001, -88.180533], [34.794011, -82.279988], [41.71814000000001, -72.649828], [33.951387, -84.55194499999998], [43.484017, -75.334921], [40.23824000000001, -111.68891], [37.294131, -121.938146], [34.01887, -118.188264], [38.242954, -122.020235], [27.633458, -80.51610500000002], [32.732236, -117.172], [39.96071, -85.35383], [35.087446, -85.18982], [45.379465, -92.872818], [34.093814, -117.543193], [25.693556, -80.345774], [43.141925, -77.658323], [44.17445, -93.94353], [45.09046, -93.44163], [25.656439, -80.412807], [35.839945, -78.781888], [31.568432, -97.11675], [38.879582, -94.676233], [37.5092, -122.34189], [40.493625, -74.29733], [26.335966, -81.806488], [41.600929, -87.681232], [33.825584, -118.214296], [45.492378, -122.673779], [36.78728, -80.83406], [40.75193, -111.91062], [33.104587, -84.001285], [38.781314, -77.14986800000001], [38.242975, -105.055945], [38.793709, -120.889355], [38.966426, -76.951336], [34.235361, -117.179414], [40.06260200000001, -76.313799], [29.999897, -90.195617], [35.99764000000001, -86.79669], [38.481689, -121.390225], [33.989156, -118.28594], [38.95065, -121.100062], [41.254226, -122.14335], [40.777806, -74.057518], [36.968571, -121.553218], [38.89011, -112.416239], [27.792826, -82.67335899999998], [29.962153000000004, -90.05959200000002], [30.50431, -91.112176], [25.767173, -80.36882800000002], [36.669389, -120.060994], [42.981841, -85.69534200000002], [40.18778, -74.575666], [34.19618, -118.40266], [38.644692, -121.272006], [38.806382, -75.737181], [30.108085, -81.507858], [37.651665, -122.098677], [36.071368, -95.975783], [29.751636, -95.460912], [34.151512, -118.45226], [45.593739, -122.511049], [34.422756, -119.633898], [42.16729, -87.84576], [33.952571, -117.303482], [44.955998, -93.192299], [39.202491, -76.756914], [37.743476, -97.302378], [41.230391, -74.177938], [43.912643, -122.798234], [38.866342, -77.140958], [34.067262, -117.53694099999998], [37.788203, -122.198985], [38.41888, -121.89413], [45.469917, -122.683197], [35.035892, -85.274663], [41.18955, -73.687576], [38.93193, -77.006561], [39.136563, -77.03220300000002], [47.366684, -122.618054], [44.894595, -93.192632], [40.26106, -103.59391], [41.27603, -96.29283], [26.474508, -81.557652], [25.947494, -80.185328], [43.195219, -77.61236099999998], [37.80811, -122.36719], [26.093741, -80.226427], [25.80925, -80.319039], [44.42473, -119.11099], [34.704876, -82.435659], [28.576778000000004, -81.45138299999998], [41.46352, -81.62147], [40.508862, -122.340448], [40.106713, -75.117699], [34.152279, -118.093781], [28.442505, -81.365963], [33.585732, -112.091187], [33.759833, -117.83117], [39.24109, -76.58901], [28.176957, -82.728764], [40.041936, -78.70643000000003], [35.761348, -78.553366], [41.044813, -73.79045699999998], [37.639682, -121.247761], [34.221658000000005, -118.420181], [33.189876, -117.187532], [46.045534, -123.913697], [28.29574, -80.74819000000002], [45.144204, -123.968851], [33.984834, -118.452581], [45.20309500000001, -93.048815], [42.39696, -83.21805], [40.626774, -124.209579], [42.027962, -76.67999499999998], [33.912459000000005, -118.179476], [26.11696, -80.16858], [36.141299, -86.731852], [36.738281, -120.69674], [34.034646, -118.437309], [37.89127, -122.15068], [30.28863, -81.988917], [38.651145, -78.67404], [35.920917, -78.793948], [44.097826, -123.156266], [41.071452, -73.479902], [37.93162, -122.325372], [37.681126, -122.471761], [41.357593, -74.2865], [27.44519600000001, -82.472453], [34.020495000000004, -118.194105], [46.15792, -123.90464], [32.774241, -96.742623], [25.866137, -80.20823100000001], [26.057327, -80.16233299999998], [42.42823, -87.94866999999998], [30.18831, -85.74774000000002], [30.498040000000003, -87.22998], [38.580394, -90.359715], [34.028855, -118.212873], [33.928023, -118.297058], [34.0029, -117.550515], [42.680887, -73.773077], [35.376126, -119.044483], [27.857037, -82.331203], [25.960184, -80.294731], [30.234276, -97.864994], [38.283324, -122.041428], [40.77309, -73.62572], [45.56612, -122.55657], [35.27025, -80.73083000000003], [38.831228, -77.369101], [31.206707, -87.30784799999998], [29.619407, -81.70386500000002], [39.006697, -77.153122], [45.462242, -122.703646], [42.814171, -83.782247], [37.781376, -122.238825], [40.834501, -73.882761], [34.044924, -118.009654], [38.695274, -121.323169], [45.827261, -123.494974], [39.97038, -74.73525], [34.225677000000005, -117.308955], [34.242571000000005, -117.433108], [25.89469200000001, -80.2094], [42.215663, -83.218806], [32.527703, -93.678788], [25.898438, -80.25908199999998], [30.183211, -82.608818], [33.416606, -111.891932], [37.56064, -77.47126999999998], [30.428918, -91.078818], [33.82539000000001, -118.22382], [35.78145100000001, -78.645876], [38.514981, -90.447642], [41.058505, -73.948208], [37.34897, -122.0598], [30.453962, -90.960971], [43.47782, -70.56511], [45.51468, -122.5653], [46.255692, -106.697899], [35.02890900000001, -85.248103], [32.442667, -93.780991], [42.787531, -78.816422], [25.784188, -80.267228], [33.991209999999995, -117.905414], [32.75993, -97.17262], [32.776261, -117.111865], [32.263477, -96.507069], [37.48441, -122.184335], [25.865988, -80.23833499999998], [30.475296000000004, -87.245462], [30.628469, -81.556309], [33.784529, -117.883402], [37.554305, -106.776434], [38.859581, -77.07014000000002], [26.433509, -81.810823], [44.96499, -93.28723], [37.314914, -121.910577], [40.794242, -124.139617], [40.15388400000001, -86.537414], [30.380684, -81.673661], [35.24414, -80.955489], [33.76502, -84.49386], [38.57852000000001, -90.44659], [37.678653, -77.554839], [40.79235, -73.50617], [34.07376, -117.81017], [39.045725, -94.499579], [33.901065, -118.060359], [28.450781, -81.477807], [30.50812, -91.17947], [39.80382, -86.05289300000004], [29.784341, -95.48731], [40.852091, -78.27007900000002], [39.840915, -84.26039200000002], [37.54349600000001, -122.020617], [36.227632, -80.040697], [29.989408, -90.058312], [33.789559999999994, -118.0892], [40.57400300000001, -111.89999], [44.778163, -69.06197], [33.818096000000004, -117.876411], [38.636335, -121.297377], [25.715467, -80.36539], [37.725087, -77.449826], [39.870584, -75.324368], [28.236228000000004, -82.352053], [41.71577, -72.19782], [30.259641, -97.600897], [35.43433, -118.932033], [34.099302, -117.488784], [39.95983, -75.1774], [37.329624, -121.86853899999998], [25.765896, -80.263423], [45.605159, -123.036178], [33.887744, -118.095557], [40.200466, -122.20242], [44.770397, -93.277823], [33.843203, -79.093069], [45.112299, -123.854025], [39.16064, -84.39305999999998], [30.6794, -84.70923499999998], [44.29068, -121.5448], [41.73141, -72.66235], [39.203499, -76.63589300000002], [40.695472, -74.371443], [28.492994, -81.45881899999998], [33.930895, -118.312509], [29.43975, -98.44361], [33.792561, -117.830761], [28.451063, -81.465427], [39.042962, -94.662407], [37.602395, -121.846676], [34.665522, -79.172573], [35.125775, -89.868372], [32.754525, -117.124565], [36.983853, -121.933726], [39.018396, -76.991357], [40.29283, -74.78331999999997], [38.701941, -121.363667], [31.560235, -97.117643], [36.894084, -76.232821], [25.988878, -80.16583], [41.569009, -93.854288], [38.905812, -77.013347], [37.506924, -122.341291], [45.027064, -122.738031], [38.872222, -121.130049], [39.71847, -111.73158], [28.56094, -81.130666], [28.0486, -82.73846], [43.02409, -76.14022], [39.863458, -75.34766], [25.702274, -80.292016], [25.928281, -80.19380699999998], [40.68258, -73.66615], [35.143908, -85.773455], [34.055514, -118.192618], [32.594386, -117.088841], [43.12384, -123.3633], [38.6589, -120.935976], [41.21866, -77.22215], [34.728888, -112.147804], [30.439085, -91.185064], [25.832417, -80.206067], [39.00874, -94.693941], [45.06493, -93.91609], [39.663981, -88.293589], [36.131745, -86.896127], [36.963018, -81.06936999999998], [32.885106, -96.699467], [43.21476, -71.53563], [37.357311, -77.44565300000002], [45.11659, -93.47827], [47.04863, -123.14512], [39.531807, -121.163913], [42.272098, -84.40157099999998], [26.685875, -81.795677], [44.09443, -121.30393], [40.037712, -76.307795], [32.330731, -96.613336], [35.39441, -89.40867], [25.684807, -80.430801], [41.20907800000001, -111.97924], [29.942993, -90.085107], [33.928495, -118.284714], [28.477851, -81.44875400000002], [25.62299800000001, -80.41443199999998], [42.784098, -73.923214], [34.439001, -82.63807], [34.370609, -119.455515], [28.52399, -81.311709], [39.348468, -76.501175], [33.879521000000004, -117.56041299999998], [33.862963, -117.538915], [35.842098, -78.679322], [33.193892, -117.365409], [36.326137, -119.134916], [34.757347, -82.475537], [35.141701, -85.26136899999999], [44.928299, -93.02286], [38.232935, -77.503389], [41.796373, -74.73462099999998], [28.661044, -80.867754], [33.443461, -117.134957], [38.983906, -76.568273], [41.270512, -112.028215], [41.647224, -122.523732], [45.858235, -122.821992], [33.300224, -111.97191], [39.08779000000001, -77.15026], [44.2692, -92.65339], [38.94492, -76.86403], [33.738917, -84.391747], [28.484163, -81.39683000000002], [34.32442, -117.48205], [39.29184, -120.68302], [37.73318, -122.41221000000002], [42.24276, -88.149898], [43.17994, -77.54305], [25.848932, -80.207594], [43.03409, -123.32765], [37.205658, -121.716369], [40.133351, -76.025896], [39.375, -121.659952], [39.578986, -106.111784], [41.142174, -73.274001], [47.734067, -122.325743], [33.930793, -118.378465], [25.725576, -80.375404], [45.059407, -123.55263], [28.451694, -81.470821], [25.500758, -80.444973], [33.823481, -84.35275899999998], [33.483508, -86.82642], [41.770727, -72.677953], [44.77844, -93.21707], [27.996479, -81.967567], [40.92699, -73.83707], [40.13195, -77.01876], [32.799687, -96.676987], [41.910026, -71.040187], [33.418765, -105.41497], [32.963968, -96.917202], [29.968940000000003, -90.10643], [40.708047, -74.18830200000002], [32.892862, -117.21057], [44.29255, -117.22652], [43.010683, -88.22562099999998], [32.797697, -96.683732], [45.01933, -123.97461], [30.420701, -91.136949], [25.901921, -80.211455], [29.011215000000004, -82.08685200000002], [25.81711, -80.20644], [36.34453, -119.150293], [38.486443, -78.807792], [39.457472, -122.031251], [40.772441, -74.032176], [45.16315, -93.28547], [32.764331, -96.620904], [35.212351, -119.166523], [45.061218, -93.056725], [37.588431, -106.199392], [43.890728, -93.422611], [33.718264000000005, -84.39741], [45.58047, -122.54358], [34.04091, -118.21846], [44.0875, -123.06415], [35.14024000000001, -82.10693], [40.223322, -84.474986], [41.24848, -111.88771], [29.261189, -81.117628], [33.845440999999994, -118.21186000000002], [42.94536, -85.7115], [33.970118, -118.081946], [45.03609, -92.85251], [34.128463, -118.162937], [39.93992, -75.14369], [35.00611, -89.93681], [44.967152, -93.22336], [33.932819, -81.076858], [32.783732, -96.78039], [44.951627, -93.126271], [30.256995, -97.746662], [33.55305, -117.189198], [37.280621, -76.666054], [30.431174, -91.052058], [37.600134, -122.376877], [38.013939, -120.396109], [35.325154, -119.252418], [25.747808, -80.33247800000002], [25.80702, -80.20572], [35.181090000000005, -81.327873], [37.56648, -77.481126], [40.070089, -76.31583], [33.87063, -118.340463], [39.994114, -75.241623], [25.807166, -80.325252], [43.095364, -75.212024], [36.05063, -79.73889], [39.251071, -76.680203], [36.671927, -119.733978], [35.811654, -78.730255], [40.349773, -111.768815], [35.182095000000004, -80.887495], [45.297823, -93.552479], [40.8362, -74.43590999999998], [38.795637, -77.61232], [37.260036, -121.092238], [33.024033, -117.07851200000002], [34.77326, -82.521632], [34.072311, -118.08178999999998], [44.12137, -122.41354], [38.640023, -121.421679], [33.767326000000004, -117.867498], [25.62653, -80.382217], [25.580151, -80.336827], [34.044314, -118.173613], [41.113446, -73.54255500000002], [36.14011, -86.7233], [48.096477, -122.184713], [39.95472, -82.83846], [29.644440000000003, -95.500398], [33.626543, -81.101697], [40.57739, -75.89123000000002], [33.929241999999995, -118.308985], [28.00015, -82.3359], [35.841729, -78.67896999999998], [26.614199, -81.804476], [38.55518, -90.4168], [34.689153999999995, -86.717912], [30.299874, -97.716661], [40.209285, -74.084855], [45.545795, -122.677452], [41.801294, -88.236254], [35.48431, -82.55929], [25.889742, -80.209265], [28.527049, -81.459131], [32.734349, -97.41273], [43.230408, -77.475951], [34.02911, -118.00451], [25.81562000000001, -80.355202], [25.906956, -80.211722], [33.978759000000004, -118.077941], [33.616157, -112.393054], [39.533187, -111.955304], [29.554828000000004, -98.485928], [25.84881, -80.207722], [33.963159999999995, -118.28106], [37.613997, -122.397119], [44.906631, -122.98606], [28.361863, -81.570054], [45.93112, -118.38685], [29.75181, -95.45576], [33.406387, -112.625473], [40.731155, -122.939912], [45.067023, -93.186045], [37.8313, -122.26686], [48.141741, -122.1871], [34.156918, -118.448685], [42.24025, -87.922859], [28.565276, -81.400716], [42.563599, -124.384621], [33.963638, -118.280566], [34.16086, -118.381022], [34.038213, -118.219614], [37.61728400000001, -122.154525], [41.194515, -73.130136], [37.27339600000001, -120.451642], [38.712339, -121.359639], [34.996533, -86.574577], [34.0725, -118.066793], [38.680018, -121.33982], [32.728852, -117.10586200000002], [38.694679, -120.813849], [30.435723, -81.58319499999998], [29.956843, -90.092531], [34.996575, -105.397038], [25.704114, -80.334288], [39.410694, -76.664904], [32.673971, -83.711753], [34.040382, -80.322988], [38.794224, -77.016902], [35.351222, -118.980932], [33.939674, -81.292576], [36.137836, -86.733898], [40.79369000000001, -73.41546], [34.400886, -119.314795], [25.868913, -80.216018], [32.121803, -81.38221], [44.983455, -93.400595], [41.879104, -124.137163], [28.535090000000004, -81.40001], [41.16767, -83.64988000000002], [37.367186, -75.929654], [28.980764, -96.662188], [35.800017, -78.590452], [33.938064000000004, -118.094424], [27.528492, -82.560307], [47.43716, -122.21851], [41.85996, -87.64423000000002], [37.923293, -122.061044], [44.611673, -121.136791], [40.6908, -73.58076], [33.64437, -112.41819], [45.53067100000001, -122.634796], [35.935389, -86.532375], [42.051454, -121.861945], [43.150858, -83.55761600000002], [40.06936, -75.27983], [41.132812, -73.29556], [41.100744, -73.956924], [34.156198, -118.265237], [39.161651, -122.9045], [27.230401, -80.342569], [32.688499, -117.093497], [40.731972, -74.04575899999998], [30.31727, -97.69964], [36.991213, -118.233666], [25.779975, -80.318014], [35.016944, -85.179197], [39.672472, -106.801001], [38.029616, -112.53103], [34.021667, -112.804154], [47.46137, -92.5209], [27.95322, -82.43506500000002], [44.597711, -124.059781], [41.145553, -73.417473], [41.524662, -74.074751], [34.107388, -118.249958], [36.128934, -86.695264], [42.576538, -113.91686], [30.671237, -88.046924], [32.272274, -110.935221], [38.46520200000001, -121.408852], [40.81177, -74.10304000000002], [37.377935, -121.948356], [28.52788, -82.4792], [41.76078, -88.06522], [34.81997, -82.26671999999998], [32.657089, -117.10662], [33.9305, -118.175323], [37.327798, -121.877614], [45.022819, -92.979769], [34.154546999999994, -118.15761299999998], [39.13008, -121.523667], [29.33663, -81.13098000000002], [33.724629, -117.273069], [40.435354, -79.7556], [32.868611, -96.770343], [35.558144, -92.213291], [33.859643, -118.235095], [40.02111, -75.13991999999998], [39.867539, -121.194591], [44.943083, -93.077062], [37.132256, -76.51520500000002], [34.0358, -117.997467], [41.573987, -87.50602099999998], [35.163234, -80.87087700000002], [28.576648, -81.85978], [38.910739, -76.935567], [33.927624, -118.022547], [36.034077, -95.831445], [28.008388, -82.453047], [25.842831, -80.225317], [36.11035, -86.77051], [39.16303, -104.853876], [28.196668, -82.196896], [42.045945, -91.501306], [43.26859, -123.3565], [37.888581, -77.457791], [38.805245, -77.213534], [40.74545, -111.94911], [26.203691, -80.143984], [41.569669, -87.386276], [29.96837, -95.4199], [45.127385, -93.49543], [34.232765, -118.272725], [38.923648, -76.930571], [32.787329, -96.812724], [46.025537, -107.825049], [29.548271000000003, -95.917971], [32.91292, -117.137912], [28.450243, -81.42756899999998], [42.362774, -96.344214], [38.91191, -76.849847], [34.031, -117.32828], [32.837403, -96.632664], [35.15867, -80.89138], [28.35663, -81.364106], [28.334497, -81.403644], [26.357898, -80.170586], [41.115034, -101.705771], [40.68762, -74.09955], [34.06878, -118.708174], [40.75169, -73.775], [40.764609, -111.918464], [39.77208, -84.25348000000002], [29.977451, -90.112191], [29.957485, -90.081235], [37.53889, -121.92691], [38.880322, -104.948478], [41.65135, -93.69784], [33.88078, -117.61318], [36.73547, -119.860611], [36.107212, -80.04965899999998], [42.926276, -122.392576], [37.336299, -77.380095], [42.594678, -123.386949], [27.927273, -81.063413], [32.162159, -110.991453], [40.198861, -75.369905], [38.61065, -90.30346], [40.444781, -79.84349300000002], [37.319928, -121.832774], [32.469307, -93.814232], [38.83866, -104.46114], [33.87543, -118.193503], [33.566054, -112.219675], [33.600937, -113.563505], [34.58532, -82.462021], [33.491951, -81.907607], [30.355601, -86.09497900000002], [43.849428, -92.536307], [45.442956, -122.57895], [29.992590000000003, -90.07602], [46.840212, -100.876295], [39.90563, -86.0452], [43.7067, -123.21196], [25.748145, -80.313289], [43.983674, -121.488154], [32.277371, -89.945177], [41.160761, -74.184783], [33.56298, -86.82661999999998], [38.752308, -121.19179], [33.95149, -117.6771], [39.120334, -78.191285], [28.333040000000004, -81.4786], [34.103057, -117.864486], [39.915129, -75.116107], [44.95115, -93.11611], [26.14623, -80.63672199999998], [34.068844, -117.346438], [40.07237, -74.96268], [35.556424, -82.619451], [35.607737, -86.239714], [33.984953999999995, -118.072392], [42.381798, -83.0313], [33.664106, -117.798526], [34.038463, -118.02102], [32.86629, -117.243069], [41.86059, -87.9927], [31.769546, -81.380517], [33.881170000000004, -117.61765], [44.06371, -123.04941], [38.04737, -122.23519], [26.345340000000004, -80.08626], [39.974945, -75.116733], [25.811598, -80.138919], [42.7537, -73.9332], [43.07732, -75.52571999999998], [42.06258, -88.02799999999998], [40.387491, -76.318783], [35.08764, -85.214175], [37.132362, -81.12074], [39.09309, -94.59074], [37.3572, -81.096537], [37.94492, -122.514657], [42.255224, -122.796091], [38.359358, -120.822363], [43.665893, -121.507401], [44.256027, -117.176571], [25.847617, -80.207164], [42.5206, -83.62279000000002], [33.29144, -111.84162], [33.974039000000005, -118.080118], [39.59723, -77.68096], [39.53721, -104.768], [33.62033, -84.47978], [29.721493, -95.414986], [42.92599000000001, -87.93526], [34.846990000000005, -82.45703], [25.630882, -80.38252800000002], [34.070763, -117.957413], [37.01029000000001, -119.793877], [34.135126, -117.96122], [34.263553, -118.644324], [25.926658, -80.293335], [34.06446, -118.00388], [38.56341, -121.341435], [33.842042, -118.286251], [40.066988, -76.315436], [40.219112, -76.787749], [30.191684, -81.726146], [28.43295800000001, -81.47444899999998], [40.725387, -74.093788], [36.323074, -86.91069499999998], [27.871731, -82.325879], [25.732705, -80.354702], [40.7377, -73.93589], [34.18026, -117.347086], [41.591898, -93.681725], [32.38084, -110.96392], [34.851505, -82.430226], [42.467941, -123.50417], [43.02997, -88.04961], [38.186469, -120.825524], [34.396175, -79.989799], [38.072412, -79.080938], [28.63779000000001, -81.415453], [37.59836, -77.49671], [40.787891, -74.049214], [34.154871, -118.310974], [32.492020000000004, -93.77058], [40.116366, -75.06954], [38.481591, -121.373048], [32.751249, -96.804645], [34.204972999999995, -80.947357], [34.156733, -118.42252], [36.86943, -76.40465], [34.257248, -87.865873], [27.89447, -82.765449], [34.9825, -118.94388899999998], [32.85392, -96.64543], [25.939675, -80.29758000000002], [34.06833, -117.37947], [28.068056, -82.763835], [31.81819, -106.55278], [44.969991, -93.329039], [40.791774, -74.085992], [40.63844, -74.89435999999998], [37.32717, -121.94089], [40.891188, -111.896277], [38.697891, -121.783885], [34.522437, -81.85001], [25.800321, -80.353115], [25.747524, -80.33769000000002], [43.11199000000001, -85.60878000000002], [25.702572, -80.329274], [25.806127, -80.313092], [34.146038, -118.47078], [27.405127, -81.41642399999998], [25.94559, -80.18654000000002], [30.246217, -81.597174], [32.357828999999995, -95.319159], [43.261364, -123.358492], [33.874358, -117.521766], [34.03379, -118.38618], [25.885372, -80.21074499999997], [39.77999000000001, -104.9519], [34.143401000000004, -81.34109699999998], [40.831803, -76.838945], [40.81113, -73.96683], [37.7013, -121.86729], [35.218025, -80.84239699999998], [32.725526, -117.166335], [38.399523, -122.361377], [34.011238, -118.192132], [44.110625, -123.179128], [37.916992, -77.458484], [34.024674, -117.750944], [35.057161, -80.81235], [40.4068, -104.884037], [33.38387, -80.639155], [30.692018, -86.122438], [33.86094600000001, -117.878354], [35.91052, -86.82462], [41.519832, -73.96686600000002], [47.230637, -122.45458700000002], [28.545709, -81.38188000000002], [45.547009, -122.542698], [28.484822, -81.40354599999998], [33.714283, -84.238411], [39.878472, -110.760372], [37.585165, -77.415476], [29.944029, -90.077148], [33.854981, -111.472424], [39.815731, -84.274005], [37.890575, -121.573719], [35.394397, -119.044536], [25.845659, -80.25106099999998], [33.03947, -117.28347], [38.86291, -77.05166], [45.10442000000001, -93.46015], [34.792736, -82.35381600000002], [42.96548, -76.85047], [42.55501, -124.3915], [32.40977, -110.99568], [42.274263, -88.007487], [44.862133, -93.110095], [39.330392, -121.687666], [41.119991, -73.37834000000002], [43.16291, -77.603175], [38.964711, -77.1817], [34.06371, -117.28439], [40.60042, -74.29551], [38.85355, -76.992025], [38.74445, -120.65688], [40.743108, -73.832963], [27.795442, -82.70415600000003], [41.98645, -71.54883000000002], [30.353343, -97.753159], [35.6674, -78.56345999999998], [41.77333, -87.5862], [40.866016, -73.975422], [30.028428, -89.997626], [39.968077, -75.556299], [33.931020000000004, -118.30032], [33.916415, -117.31423], [40.055386, -74.984735], [37.676743, -81.12009599999998], [37.57064, -122.31392], [32.993303999999995, -111.744931], [27.568329, -82.425428], [28.559354, -81.475895], [38.838137, -77.218581], [34.394987, -118.468366], [38.510303, -121.464525], [37.652575, -77.61144200000003], [43.010846, -83.718346], [25.949889, -80.182288], [25.686014, -80.399381], [34.22303400000001, -117.131669], [26.386148, -80.105132], [33.523393, -117.557136], [46.588505, -111.92495], [40.71674, -111.95348], [33.725, -84.39395], [33.77332, -118.03904], [34.156890000000004, -118.37925], [42.952732, -85.649309], [41.551851, -73.042309], [38.251055, -120.357672], [41.171402, -112.00651299999998], [42.24073, -87.86261], [33.901959999999995, -118.269], [47.70305, -122.3298], [43.01964, -77.758275], [39.359315, -77.5319], [33.89577, -117.497634], [33.873296999999994, -117.689293], [36.75377, -119.72812], [37.303502, -122.03538], [44.899026, -93.274725], [36.224393, -119.333859], [27.006397, -80.208541], [37.49268, -77.48839], [36.665144, -79.927132], [36.755038, -80.781442], [33.837379, -117.261608], [26.095179, -80.168663], [25.96371, -80.165722], [28.51298, -81.37631999999998], [26.8887, -80.13188000000002], [32.478172, -93.772499], [38.00262100000001, -121.833641], [44.889921, -93.28707], [29.686269, -95.290473], [33.876085, -118.129047], [38.238457, -122.095987], [37.315931, -121.82927], [28.811467, -81.323617], [29.05395, -95.51633], [34.011579, -117.724095], [25.705014, -80.334372], [29.785137, -95.562977], [30.412355, -81.74733499999998], [25.688182, -80.365879], [34.648033, -82.257325], [29.831832, -95.284453], [30.015631, -90.02147099999998], [34.814246000000004, -82.333978], [25.956746, -80.213884], [28.00438, -80.56381], [29.77659, -95.391017], [36.663404, -119.762388], [30.252458, -97.735484], [34.76275, -118.07731], [38.964288, -119.938632], [33.909753, -118.22253], [45.33371500000001, -122.879375], [25.920138, -80.292935], [39.86989000000001, -75.32645], [34.446548, -118.611005], [39.1667, -94.55849], [38.032472, -122.781691], [36.612619, -119.754833], [28.226078, -82.359595], [40.458365, -122.297605], [38.323919, -81.571641], [34.017446, -118.052023], [37.827642, -120.997618], [33.745221, -84.389609], [29.980446, -90.109468], [47.523583, -95.390348], [28.607533, -81.423859], [37.863755, -96.858656], [33.935351000000004, -118.088689], [45.527343, -122.665194], [32.786939000000004, -117.120265], [30.329601, -81.648045], [40.149645, -80.19971899999999], [29.65783900000001, -98.046971], [43.071961, -75.096816], [25.714585, -80.413965], [37.5993, -113.16377], [33.856483000000004, -117.785571], [37.966965, -122.304111], [34.16068, -118.63388], [35.036805, -85.259697], [47.768644, -122.189384], [29.9644, -90.07319], [27.924268, -82.59693299999998], [33.596133, -84.388312], [34.065333, -81.22111], [43.613636, -124.180954], [25.941391, -80.188845], [33.42213, -111.87437], [45.37571, -122.75544], [40.7, -111.90237], [47.82637, -122.26969], [34.09454, -118.20611], [36.153819, -86.840213], [35.15935, -113.69148], [38.271627, -85.97369599999998], [40.325138, -78.860277], [40.021508, -80.174499], [45.28908, -122.76928999999998], [38.963716, -77.182827], [40.973316, -76.521745], [45.823084, -93.451584], [37.34269000000001, -121.9012], [35.024736, -118.16598], [34.083207, -118.228342], [37.355984, -121.863799], [26.054536, -80.162447], [33.948515, -117.301551], [34.505835999999995, -118.11459], [44.29982, -120.7228], [37.876939, -121.378906], [34.030566, -117.642577], [39.177543, -120.85565], [28.537968, -81.345027], [25.784024, -80.23499], [25.667595, -80.375585], [34.054078999999994, -118.237861], [43.56024, -88.7759], [33.712990999999995, -117.847545], [40.41118, -120.755378], [39.454575, -76.646376], [28.567595, -81.20780400000002], [34.186595000000004, -117.439427], [34.563115, -82.70326899999998], [33.968487, -118.37017], [33.58964, -81.69497], [33.460749, -112.08296], [30.193397, -97.739451], [36.162402, -86.778085], [37.40396, -77.67136500000002], [33.712717, -84.27744200000002], [34.997466, -81.98859200000003], [25.71517, -80.375976], [34.02395300000001, -118.240732], [32.224317, -110.96858], [37.511362, -121.937633], [32.80757, -96.84208], [33.988571, -117.909684], [37.69045, -122.08891], [33.834944, -117.835588], [39.014383, -77.059299], [28.43084600000001, -81.470414], [38.909229, -94.390701], [37.402805, -77.686616], [27.446273, -82.503262], [33.909475, -117.561128], [39.884883, -120.781943], [37.73799, -122.19428], [39.3659, -76.58584], [39.06775, -94.48815], [31.44227, -83.52767], [40.844796, -73.905512], [44.75915, -93.24793], [32.83706, -96.93541], [36.239414, -120.234375], [25.734457, -80.31639100000002], [45.784848, -108.482042], [47.41056500000001, -115.514255], [37.355521, -120.63551499999998], [35.97461, -78.87272], [37.560721, -122.035628], [44.586681, -92.983112], [36.133292, -95.936409], [43.147122, -77.594701], [44.846352, -121.397241], [38.704212, -121.31278799999998], [33.930962, -118.29371100000002], [25.598557, -80.355518], [38.887449, -123.053644], [39.410308, -123.747006], [39.20339, -84.5547], [41.578322, -87.256333], [34.027374, -117.800513], [25.521439, -80.445215], [38.678813, -121.225586], [39.29178, -77.314464], [40.89059, -74.70251999999998], [28.577281, -81.416306], [36.97557800000001, -121.718146], [38.868195, -77.047359], [27.791817, -82.679405], [28.41958, -80.82045], [39.802208, -86.083428], [37.497446, -119.840484], [40.73426, -73.5847], [35.833958, -78.307725], [36.138063, -120.084906], [42.37072, -87.94227], [25.769489, -80.337262], [32.925078000000006, -96.838901], [25.573844, -80.374329], [34.076497, -118.279187], [39.889662, -74.997371], [37.03961, -76.39363], [34.030891, -118.194211], [44.08307, -122.74603], [32.7196, -96.68291], [33.72228, -84.94570999999998], [41.476038, -72.558914], [38.71924, -77.21124], [30.162737, -82.947141], [34.218738, -80.694755], [29.81157, -95.34702], [40.751906, -80.344144], [42.00226, -88.17820999999998], [34.028855, -118.212873], [47.232399, -122.438303], [37.332126, -120.527295], [40.66591, -73.81566], [41.240669, -96.086028], [38.692233, -120.82213], [30.70291, -88.07885], [33.69174, -84.49065999999998], [42.50241, -71.13219000000002], [30.383324, -97.707466], [37.426298, -76.551201], [35.012768, -80.969938], [30.37391400000001, -91.070594], [33.749559000000005, -117.8437], [34.064471999999995, -117.302023], [33.986304, -117.346364], [26.852871, -81.970206], [41.037, -74.07236], [33.851883, -117.875558], [44.97327, -93.40062], [40.452614, -79.996071], [47.4642, -122.24462], [45.010419, -93.189747], [29.872946, -95.372107], [37.68905, -122.3908], [32.359538, -90.151262], [38.693014, -121.225329], [39.9131, -75.14853000000002], [25.699599, -80.382101], [41.8485, -87.64321], [37.41187, -121.87926000000002], [38.672499, -121.225687], [37.739444, -122.14311], [38.742696, -76.991683], [40.750039, -73.616005], [42.91252100000001, -85.582164], [30.435601, -84.26196800000002], [43.02938, -112.4079], [25.89222, -80.217045], [30.033664, -90.02726899999998], [40.149013, -75.334797], [40.718346, -111.883832], [30.236236, -97.847542], [36.379541, -80.488446], [39.754954, -86.144855], [25.776115, -80.13267900000002], [39.096302, -94.574011], [33.334346000000004, -111.876365], [28.527985, -81.36554100000002], [43.109997, -83.675833], [34.01027, -117.8234], [44.95804, -93.26928], [32.812975, -96.864684], [34.072720000000004, -80.90916999999997], [37.634974, -122.08695], [45.36055, -122.82549], [28.393853000000004, -81.375231], [28.037095, -82.072775], [30.434312, -91.057491], [34.003726, -118.308902], [37.569568, -77.48660100000002], [28.54837, -81.45343000000003], [45.61676, -94.532324], [43.170084, -77.689599], [38.609215, -121.486041], [44.97117100000001, -93.460553], [34.196925, -79.704474], [32.813884, -96.790163], [30.278816, -82.123005], [33.945372, -118.36828], [37.12283, -122.121492], [28.796936, -81.331435], [33.912602, -81.057491], [34.01541, -118.17078], [36.277497, -119.278673], [40.89866, -74.48904], [37.514604, -77.24649000000002], [37.64006, -122.0906], [47.14112, -122.43458], [32.919689, -80.035978], [33.835102, -117.876222], [39.754663, -84.133868], [33.44129, -84.69784], [39.744801, -121.489106], [33.548527, -117.646774], [44.94853300000001, -92.970138], [44.97055, -93.33591], [36.81889, -76.34331999999998], [32.456412, -93.728691], [32.933038, -96.901661], [25.822923, -80.248882], [36.161854, -86.777733]],\n",
       "                {&quot;blur&quot;: 15, &quot;maxZoom&quot;: 18, &quot;minOpacity&quot;: 0.5, &quot;radius&quot;: 25}\n",
       "            ).addTo(map_54f66d596be078278448b5ecf4651821);\n",
       "        \n",
       "&lt;/script&gt;\" style=\"position:absolute;width:100%;height:100%;left:0;top:0;border:none !important;\" allowfullscreen webkitallowfullscreen mozallowfullscreen></iframe></div></div>"
      ],
      "text/plain": [
       "<folium.folium.Map at 0x2aa0f3448b0>"
      ]
     },
     "execution_count": 41,
     "metadata": {},
     "output_type": "execute_result"
    }
   ],
   "source": [
    "map = folium.Map()\n",
    "HeatMap(lat_lon_pairs).add_to(map)\n",
    "map"
   ]
  },
  {
   "cell_type": "code",
   "execution_count": null,
   "id": "2af02ed5",
   "metadata": {},
   "outputs": [],
   "source": []
  },
  {
   "cell_type": "code",
   "execution_count": null,
   "id": "44572fe5",
   "metadata": {},
   "outputs": [],
   "source": []
  },
  {
   "cell_type": "markdown",
   "id": "3b122db8",
   "metadata": {},
   "source": [
    "##  Ask and Answer Questions"
   ]
  },
  {
   "cell_type": "markdown",
   "id": "8616a7e7",
   "metadata": {},
   "source": [
    "1. Does New York Show up in the data? If yes, why is the count lower if it's the most populated city\n",
    "2. Among the top 100 cities in number of accidents, which states appear more frequently\n",
    "3. What time of the day are accidents more frequent? ANSWERED\n",
    "4. Which Day of the weeks have the most accidents?\n"
   ]
  },
  {
   "cell_type": "code",
   "execution_count": null,
   "id": "c1971047",
   "metadata": {},
   "outputs": [],
   "source": []
  },
  {
   "cell_type": "markdown",
   "id": "f957475e",
   "metadata": {},
   "source": [
    "## Summary and Conclusion"
   ]
  },
  {
   "cell_type": "markdown",
   "id": "2ab0c1f9",
   "metadata": {},
   "source": [
    "- No data from New York\n",
    "- Miami appears more frequently in terms of recorded accidents\n",
    "- The number of accidents per city decreaces/increases exponentially\n",
    "- Less than 5% of cities have more than 1000 yearly accidents\n",
    "- Over 1100 cities have reported just one accident\n",
    "- On sundays the the most accidents tend to happen around 11 AM to 7PM but they happen less frequently in comparision to weekdays\n",
    "- Accidents tend to be higher during the weekdays based on data with accidents peaking on fridays\n",
    "- A high percentage of accidents occur between 2PM - 5PM "
   ]
  }
 ],
 "metadata": {
  "kernelspec": {
   "display_name": "Python 3 (ipykernel)",
   "language": "python",
   "name": "python3"
  },
  "language_info": {
   "codemirror_mode": {
    "name": "ipython",
    "version": 3
   },
   "file_extension": ".py",
   "mimetype": "text/x-python",
   "name": "python",
   "nbconvert_exporter": "python",
   "pygments_lexer": "ipython3",
   "version": "3.9.7"
  }
 },
 "nbformat": 4,
 "nbformat_minor": 5
}
